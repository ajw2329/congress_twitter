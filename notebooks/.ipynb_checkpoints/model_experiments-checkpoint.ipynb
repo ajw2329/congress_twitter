{
 "cells": [
  {
   "cell_type": "code",
   "execution_count": 1,
   "metadata": {},
   "outputs": [],
   "source": [
    "from sklearn.model_selection import train_test_split\n",
    "from sklearn.naive_bayes import MultinomialNB\n",
    "from sklearn.feature_extraction.text import CountVectorizer\n",
    "from sklearn.feature_extraction.text import TfidfVectorizer\n",
    "import pandas as pd\n",
    "from pandarallel import pandarallel\n",
    "from sklearn.model_selection import cross_val_score\n",
    "import sys\n",
    "sys.path.insert(1, '/home/andrew/projects/congress_twitter/congress_twitter/scripts')\n",
    "import text_processing\n",
    "import spacy\n",
    "import plotnine as p9\n",
    "from plotnine.data import mpg"
   ]
  },
  {
   "cell_type": "code",
   "execution_count": 2,
   "metadata": {},
   "outputs": [
    {
     "data": {
      "text/plain": [
       "<module 'text_processing' from '/home/andrew/projects/congress_twitter/congress_twitter/scripts/text_processing.py'>"
      ]
     },
     "execution_count": 2,
     "metadata": {},
     "output_type": "execute_result"
    }
   ],
   "source": [
    "from importlib import reload\n",
    "reload(text_processing)"
   ]
  },
  {
   "cell_type": "code",
   "execution_count": 3,
   "metadata": {},
   "outputs": [],
   "source": [
    " p9.options.figure_size = (12, 6.8)"
   ]
  },
  {
   "cell_type": "markdown",
   "metadata": {},
   "source": [
    "# Input data"
   ]
  },
  {
   "cell_type": "markdown",
   "metadata": {},
   "source": [
    "## Twitter handles"
   ]
  },
  {
   "cell_type": "markdown",
   "metadata": {},
   "source": [
    "Twitter handles were scraped from a pre-prepared HTML table, with relevant annotations of chamber and party. "
   ]
  },
  {
   "cell_type": "code",
   "execution_count": 7,
   "metadata": {},
   "outputs": [
    {
     "data": {
      "text/html": [
       "<div>\n",
       "<style scoped>\n",
       "    .dataframe tbody tr th:only-of-type {\n",
       "        vertical-align: middle;\n",
       "    }\n",
       "\n",
       "    .dataframe tbody tr th {\n",
       "        vertical-align: top;\n",
       "    }\n",
       "\n",
       "    .dataframe thead th {\n",
       "        text-align: right;\n",
       "    }\n",
       "</style>\n",
       "<table border=\"1\" class=\"dataframe\">\n",
       "  <thead>\n",
       "    <tr style=\"text-align: right;\">\n",
       "      <th></th>\n",
       "      <th>state</th>\n",
       "      <th>chamber</th>\n",
       "      <th>name</th>\n",
       "      <th>Website</th>\n",
       "      <th>party</th>\n",
       "      <th>username</th>\n",
       "      <th>Twitter Links</th>\n",
       "      <th>Instagram</th>\n",
       "      <th>Instagram Links</th>\n",
       "      <th>Facebook</th>\n",
       "      <th>Facebook links</th>\n",
       "    </tr>\n",
       "  </thead>\n",
       "  <tbody>\n",
       "    <tr>\n",
       "      <th>0</th>\n",
       "      <td>Alabama</td>\n",
       "      <td>Senator</td>\n",
       "      <td>Shelby, Richard</td>\n",
       "      <td>https://www.shelby.senate.gov/public/</td>\n",
       "      <td>R</td>\n",
       "      <td>SenShelby</td>\n",
       "      <td>https://twitter.com/SenShelby?ref_src=twsrc%5E...</td>\n",
       "      <td>@senatorshelby</td>\n",
       "      <td>https://www.instagram.com/senatorshelby/</td>\n",
       "      <td>x</td>\n",
       "      <td>https://www.facebook.com/RichardShelby</td>\n",
       "    </tr>\n",
       "    <tr>\n",
       "      <th>1</th>\n",
       "      <td>Alabama</td>\n",
       "      <td>Senator</td>\n",
       "      <td>Tuberville, Tommy</td>\n",
       "      <td>https://www.tuberville.senate.gov/</td>\n",
       "      <td>R</td>\n",
       "      <td>Ttuberville</td>\n",
       "      <td>https://twitter.com/ttuberville?lang=en</td>\n",
       "      <td>@sentuberville</td>\n",
       "      <td>https://www.instagram.com/sentuberville/</td>\n",
       "      <td>x</td>\n",
       "      <td>https://www.facebook.com/TommyForSenate/</td>\n",
       "    </tr>\n",
       "    <tr>\n",
       "      <th>2</th>\n",
       "      <td>Alabama 1st District</td>\n",
       "      <td>Representative</td>\n",
       "      <td>Carl, Jerry</td>\n",
       "      <td>https://carl.house.gov/</td>\n",
       "      <td>R</td>\n",
       "      <td>RepJerryCarl</td>\n",
       "      <td>https://twitter.com/RepJerryCarl</td>\n",
       "      <td>@repjerrycarl</td>\n",
       "      <td>https://www.instagram.com/repjerrycarl/</td>\n",
       "      <td>x</td>\n",
       "      <td>https://www.facebook.com/RepJerryCarl/</td>\n",
       "    </tr>\n",
       "    <tr>\n",
       "      <th>3</th>\n",
       "      <td>Alabama 2nd District</td>\n",
       "      <td>Representative</td>\n",
       "      <td>Moore, Barry</td>\n",
       "      <td>https://barrymoore.house.gov/</td>\n",
       "      <td>R</td>\n",
       "      <td>RepBarryMoore</td>\n",
       "      <td>https://twitter.com/RepBarryMoore?ref_src=twsr...</td>\n",
       "      <td>@barrymooreforcongress</td>\n",
       "      <td>https://www.instagram.com/barrymooreforcongress/</td>\n",
       "      <td>x</td>\n",
       "      <td>https://www.facebook.com/RepBarryMoore/</td>\n",
       "    </tr>\n",
       "    <tr>\n",
       "      <th>4</th>\n",
       "      <td>Alabama 3rd District</td>\n",
       "      <td>Representative</td>\n",
       "      <td>Rogers, Mike</td>\n",
       "      <td>http://mikerogers.house.gov/</td>\n",
       "      <td>R</td>\n",
       "      <td>RepMikeRogers</td>\n",
       "      <td>https://twitter.com/repmikerogers?lang=en</td>\n",
       "      <td>@repmikerogersal</td>\n",
       "      <td>https://www.instagram.com/repmikerogersal/?hl=en</td>\n",
       "      <td>x</td>\n",
       "      <td>https://www.facebook.com/CongressmanMikeDRogers/</td>\n",
       "    </tr>\n",
       "  </tbody>\n",
       "</table>\n",
       "</div>"
      ],
      "text/plain": [
       "                  state         chamber               name  \\\n",
       "0               Alabama         Senator    Shelby, Richard   \n",
       "1               Alabama         Senator  Tuberville, Tommy   \n",
       "2  Alabama 1st District  Representative        Carl, Jerry   \n",
       "3  Alabama 2nd District  Representative       Moore, Barry   \n",
       "4  Alabama 3rd District  Representative       Rogers, Mike   \n",
       "\n",
       "                                 Website party       username  \\\n",
       "0  https://www.shelby.senate.gov/public/     R      SenShelby   \n",
       "1     https://www.tuberville.senate.gov/     R    Ttuberville   \n",
       "2                https://carl.house.gov/     R   RepJerryCarl   \n",
       "3          https://barrymoore.house.gov/     R  RepBarryMoore   \n",
       "4           http://mikerogers.house.gov/     R  RepMikeRogers   \n",
       "\n",
       "                                       Twitter Links               Instagram  \\\n",
       "0  https://twitter.com/SenShelby?ref_src=twsrc%5E...          @senatorshelby   \n",
       "1            https://twitter.com/ttuberville?lang=en          @sentuberville   \n",
       "2                   https://twitter.com/RepJerryCarl           @repjerrycarl   \n",
       "3  https://twitter.com/RepBarryMoore?ref_src=twsr...  @barrymooreforcongress   \n",
       "4          https://twitter.com/repmikerogers?lang=en        @repmikerogersal   \n",
       "\n",
       "                                    Instagram Links Facebook  \\\n",
       "0          https://www.instagram.com/senatorshelby/        x   \n",
       "1          https://www.instagram.com/sentuberville/        x   \n",
       "2           https://www.instagram.com/repjerrycarl/        x   \n",
       "3  https://www.instagram.com/barrymooreforcongress/        x   \n",
       "4  https://www.instagram.com/repmikerogersal/?hl=en        x   \n",
       "\n",
       "                                     Facebook links  \n",
       "0            https://www.facebook.com/RichardShelby  \n",
       "1          https://www.facebook.com/TommyForSenate/  \n",
       "2            https://www.facebook.com/RepJerryCarl/  \n",
       "3           https://www.facebook.com/RepBarryMoore/  \n",
       "4  https://www.facebook.com/CongressmanMikeDRogers/  "
      ]
     },
     "execution_count": 7,
     "metadata": {},
     "output_type": "execute_result"
    }
   ],
   "source": [
    "twitter_handles = pd.read_csv(\"../data/congress_twitter_handles.csv\")\\\n",
    "    .drop(\"Unnamed: 0\", axis = \"columns\")\\\n",
    "    .rename(columns = {\n",
    "        \"Party\": \"party\", \n",
    "        \"Twitter\": \"username\", \n",
    "        \"Member of Congress\": \"chamber\", \n",
    "        \"Name\": \"name\",\n",
    "        \"State\":\"state\"})\\\n",
    "    .dropna(subset = [\"username\"])\n",
    "\n",
    "twitter_handles[\"username\"] = twitter_handles[\"username\"].apply(lambda x: x.replace(\"@\", \"\"))\n",
    "twitter_handles[\"chamber\"] = twitter_handles[\"chamber\"].apply(lambda x: x.replace(\"U.S. \", \"\"))\n",
    "\n",
    "twitter_handles.head()"
   ]
  },
  {
   "cell_type": "code",
   "execution_count": 8,
   "metadata": {},
   "outputs": [],
   "source": [
    "usernames = set([i.replace(\"@\", \"\") for i in twitter_handles.username])"
   ]
  },
  {
   "cell_type": "markdown",
   "metadata": {},
   "source": [
    "## All tweets"
   ]
  },
  {
   "cell_type": "markdown",
   "metadata": {},
   "source": [
    "All tweets from handles believed to belong to members of congress were then scraped.  It appeared as though retweets from other users were also coming through, so an additional filter was added here to require that tweets in the final dataframe were authored by users in the handles dataframe."
   ]
  },
  {
   "cell_type": "code",
   "execution_count": 10,
   "metadata": {},
   "outputs": [
    {
     "data": {
      "text/html": [
       "<div>\n",
       "<style scoped>\n",
       "    .dataframe tbody tr th:only-of-type {\n",
       "        vertical-align: middle;\n",
       "    }\n",
       "\n",
       "    .dataframe tbody tr th {\n",
       "        vertical-align: top;\n",
       "    }\n",
       "\n",
       "    .dataframe thead th {\n",
       "        text-align: right;\n",
       "    }\n",
       "</style>\n",
       "<table border=\"1\" class=\"dataframe\">\n",
       "  <thead>\n",
       "    <tr style=\"text-align: right;\">\n",
       "      <th></th>\n",
       "      <th>Unnamed: 0</th>\n",
       "      <th>Unnamed: 0.1</th>\n",
       "      <th>username</th>\n",
       "      <th>date</th>\n",
       "      <th>tweet_content</th>\n",
       "      <th>party</th>\n",
       "      <th>state</th>\n",
       "      <th>chamber</th>\n",
       "      <th>name</th>\n",
       "      <th>Website</th>\n",
       "      <th>Twitter Links</th>\n",
       "      <th>Instagram</th>\n",
       "      <th>Instagram Links</th>\n",
       "      <th>Facebook</th>\n",
       "      <th>Facebook links</th>\n",
       "    </tr>\n",
       "  </thead>\n",
       "  <tbody>\n",
       "    <tr>\n",
       "      <th>0</th>\n",
       "      <td>0</td>\n",
       "      <td>0.0</td>\n",
       "      <td>RepTerriSewell</td>\n",
       "      <td>2021-07-06 19:45:12+00:00</td>\n",
       "      <td>189 people killed. 540 shootings. In a single ...</td>\n",
       "      <td>D</td>\n",
       "      <td>Alabama 7th District</td>\n",
       "      <td>Representative</td>\n",
       "      <td>Sewell, Terri A.</td>\n",
       "      <td>https://sewell.house.gov/</td>\n",
       "      <td>https://twitter.com/RepTerriSewell</td>\n",
       "      <td>@repterriasewell</td>\n",
       "      <td>https://www.instagram.com/repterriasewell/?hl=en</td>\n",
       "      <td>x</td>\n",
       "      <td>https://www.facebook.com/RepSewell</td>\n",
       "    </tr>\n",
       "    <tr>\n",
       "      <th>1</th>\n",
       "      <td>1</td>\n",
       "      <td>1.0</td>\n",
       "      <td>RepTerriSewell</td>\n",
       "      <td>2021-07-06 15:24:27+00:00</td>\n",
       "      <td>🚨ALABAMA FAMILIES🚨\\n\\nIn just 9 days, hard-wor...</td>\n",
       "      <td>D</td>\n",
       "      <td>Alabama 7th District</td>\n",
       "      <td>Representative</td>\n",
       "      <td>Sewell, Terri A.</td>\n",
       "      <td>https://sewell.house.gov/</td>\n",
       "      <td>https://twitter.com/RepTerriSewell</td>\n",
       "      <td>@repterriasewell</td>\n",
       "      <td>https://www.instagram.com/repterriasewell/?hl=en</td>\n",
       "      <td>x</td>\n",
       "      <td>https://www.facebook.com/RepSewell</td>\n",
       "    </tr>\n",
       "    <tr>\n",
       "      <th>2</th>\n",
       "      <td>2</td>\n",
       "      <td>2.0</td>\n",
       "      <td>RepTerriSewell</td>\n",
       "      <td>2021-07-04 15:33:57+00:00</td>\n",
       "      <td>Happy #July4th Alabama!\\n\\nAs we celebrate our...</td>\n",
       "      <td>D</td>\n",
       "      <td>Alabama 7th District</td>\n",
       "      <td>Representative</td>\n",
       "      <td>Sewell, Terri A.</td>\n",
       "      <td>https://sewell.house.gov/</td>\n",
       "      <td>https://twitter.com/RepTerriSewell</td>\n",
       "      <td>@repterriasewell</td>\n",
       "      <td>https://www.instagram.com/repterriasewell/?hl=en</td>\n",
       "      <td>x</td>\n",
       "      <td>https://www.facebook.com/RepSewell</td>\n",
       "    </tr>\n",
       "    <tr>\n",
       "      <th>3</th>\n",
       "      <td>3</td>\n",
       "      <td>3.0</td>\n",
       "      <td>RepTerriSewell</td>\n",
       "      <td>2021-07-03 00:02:45+00:00</td>\n",
       "      <td>On the 57th anniversary of the #CivilRightsAct...</td>\n",
       "      <td>D</td>\n",
       "      <td>Alabama 7th District</td>\n",
       "      <td>Representative</td>\n",
       "      <td>Sewell, Terri A.</td>\n",
       "      <td>https://sewell.house.gov/</td>\n",
       "      <td>https://twitter.com/RepTerriSewell</td>\n",
       "      <td>@repterriasewell</td>\n",
       "      <td>https://www.instagram.com/repterriasewell/?hl=en</td>\n",
       "      <td>x</td>\n",
       "      <td>https://www.facebook.com/RepSewell</td>\n",
       "    </tr>\n",
       "    <tr>\n",
       "      <th>4</th>\n",
       "      <td>4</td>\n",
       "      <td>4.0</td>\n",
       "      <td>RepTerriSewell</td>\n",
       "      <td>2021-07-02 16:18:27+00:00</td>\n",
       "      <td>Wonderful news from today’s jobs report!\\n\\n✅ ...</td>\n",
       "      <td>D</td>\n",
       "      <td>Alabama 7th District</td>\n",
       "      <td>Representative</td>\n",
       "      <td>Sewell, Terri A.</td>\n",
       "      <td>https://sewell.house.gov/</td>\n",
       "      <td>https://twitter.com/RepTerriSewell</td>\n",
       "      <td>@repterriasewell</td>\n",
       "      <td>https://www.instagram.com/repterriasewell/?hl=en</td>\n",
       "      <td>x</td>\n",
       "      <td>https://www.facebook.com/RepSewell</td>\n",
       "    </tr>\n",
       "  </tbody>\n",
       "</table>\n",
       "</div>"
      ],
      "text/plain": [
       "   Unnamed: 0  Unnamed: 0.1        username                       date  \\\n",
       "0           0           0.0  RepTerriSewell  2021-07-06 19:45:12+00:00   \n",
       "1           1           1.0  RepTerriSewell  2021-07-06 15:24:27+00:00   \n",
       "2           2           2.0  RepTerriSewell  2021-07-04 15:33:57+00:00   \n",
       "3           3           3.0  RepTerriSewell  2021-07-03 00:02:45+00:00   \n",
       "4           4           4.0  RepTerriSewell  2021-07-02 16:18:27+00:00   \n",
       "\n",
       "                                       tweet_content party  \\\n",
       "0  189 people killed. 540 shootings. In a single ...     D   \n",
       "1  🚨ALABAMA FAMILIES🚨\\n\\nIn just 9 days, hard-wor...     D   \n",
       "2  Happy #July4th Alabama!\\n\\nAs we celebrate our...     D   \n",
       "3  On the 57th anniversary of the #CivilRightsAct...     D   \n",
       "4  Wonderful news from today’s jobs report!\\n\\n✅ ...     D   \n",
       "\n",
       "                  state         chamber              name  \\\n",
       "0  Alabama 7th District  Representative  Sewell, Terri A.   \n",
       "1  Alabama 7th District  Representative  Sewell, Terri A.   \n",
       "2  Alabama 7th District  Representative  Sewell, Terri A.   \n",
       "3  Alabama 7th District  Representative  Sewell, Terri A.   \n",
       "4  Alabama 7th District  Representative  Sewell, Terri A.   \n",
       "\n",
       "                     Website                       Twitter Links  \\\n",
       "0  https://sewell.house.gov/  https://twitter.com/RepTerriSewell   \n",
       "1  https://sewell.house.gov/  https://twitter.com/RepTerriSewell   \n",
       "2  https://sewell.house.gov/  https://twitter.com/RepTerriSewell   \n",
       "3  https://sewell.house.gov/  https://twitter.com/RepTerriSewell   \n",
       "4  https://sewell.house.gov/  https://twitter.com/RepTerriSewell   \n",
       "\n",
       "          Instagram                                   Instagram Links  \\\n",
       "0  @repterriasewell  https://www.instagram.com/repterriasewell/?hl=en   \n",
       "1  @repterriasewell  https://www.instagram.com/repterriasewell/?hl=en   \n",
       "2  @repterriasewell  https://www.instagram.com/repterriasewell/?hl=en   \n",
       "3  @repterriasewell  https://www.instagram.com/repterriasewell/?hl=en   \n",
       "4  @repterriasewell  https://www.instagram.com/repterriasewell/?hl=en   \n",
       "\n",
       "  Facebook                      Facebook links  \n",
       "0        x  https://www.facebook.com/RepSewell  \n",
       "1        x  https://www.facebook.com/RepSewell  \n",
       "2        x  https://www.facebook.com/RepSewell  \n",
       "3        x  https://www.facebook.com/RepSewell  \n",
       "4        x  https://www.facebook.com/RepSewell  "
      ]
     },
     "execution_count": 10,
     "metadata": {},
     "output_type": "execute_result"
    }
   ],
   "source": [
    "all_tweets = pd.read_csv(\"../output/all_tweets.csv\")\n",
    "#    .join(twitter_handles, how = 'inner', on = [\"username\", \"party\"])\n",
    "\n",
    "all_tweets = pd.merge(all_tweets, twitter_handles, how = \"inner\", on = [\"username\", \"party\"])\n",
    "all_tweets.head()"
   ]
  },
  {
   "cell_type": "code",
   "execution_count": 11,
   "metadata": {},
   "outputs": [
    {
     "data": {
      "text/html": [
       "<div>\n",
       "<style scoped>\n",
       "    .dataframe tbody tr th:only-of-type {\n",
       "        vertical-align: middle;\n",
       "    }\n",
       "\n",
       "    .dataframe tbody tr th {\n",
       "        vertical-align: top;\n",
       "    }\n",
       "\n",
       "    .dataframe thead th {\n",
       "        text-align: right;\n",
       "    }\n",
       "</style>\n",
       "<table border=\"1\" class=\"dataframe\">\n",
       "  <thead>\n",
       "    <tr style=\"text-align: right;\">\n",
       "      <th></th>\n",
       "      <th>username</th>\n",
       "      <th>date</th>\n",
       "      <th>tweet_content</th>\n",
       "      <th>party</th>\n",
       "      <th>chamber</th>\n",
       "      <th>state</th>\n",
       "      <th>name</th>\n",
       "    </tr>\n",
       "  </thead>\n",
       "  <tbody>\n",
       "    <tr>\n",
       "      <th>0</th>\n",
       "      <td>RepTerriSewell</td>\n",
       "      <td>2021-07-06 19:45:12+00:00</td>\n",
       "      <td>189 people killed. 540 shootings. In a single ...</td>\n",
       "      <td>D</td>\n",
       "      <td>Representative</td>\n",
       "      <td>Alabama 7th District</td>\n",
       "      <td>Sewell, Terri A.</td>\n",
       "    </tr>\n",
       "    <tr>\n",
       "      <th>1</th>\n",
       "      <td>RepTerriSewell</td>\n",
       "      <td>2021-07-06 15:24:27+00:00</td>\n",
       "      <td>🚨ALABAMA FAMILIES🚨\\n\\nIn just 9 days, hard-wor...</td>\n",
       "      <td>D</td>\n",
       "      <td>Representative</td>\n",
       "      <td>Alabama 7th District</td>\n",
       "      <td>Sewell, Terri A.</td>\n",
       "    </tr>\n",
       "    <tr>\n",
       "      <th>2</th>\n",
       "      <td>RepTerriSewell</td>\n",
       "      <td>2021-07-04 15:33:57+00:00</td>\n",
       "      <td>Happy #July4th Alabama!\\n\\nAs we celebrate our...</td>\n",
       "      <td>D</td>\n",
       "      <td>Representative</td>\n",
       "      <td>Alabama 7th District</td>\n",
       "      <td>Sewell, Terri A.</td>\n",
       "    </tr>\n",
       "    <tr>\n",
       "      <th>3</th>\n",
       "      <td>RepTerriSewell</td>\n",
       "      <td>2021-07-03 00:02:45+00:00</td>\n",
       "      <td>On the 57th anniversary of the #CivilRightsAct...</td>\n",
       "      <td>D</td>\n",
       "      <td>Representative</td>\n",
       "      <td>Alabama 7th District</td>\n",
       "      <td>Sewell, Terri A.</td>\n",
       "    </tr>\n",
       "    <tr>\n",
       "      <th>4</th>\n",
       "      <td>RepTerriSewell</td>\n",
       "      <td>2021-07-02 16:18:27+00:00</td>\n",
       "      <td>Wonderful news from today’s jobs report!\\n\\n✅ ...</td>\n",
       "      <td>D</td>\n",
       "      <td>Representative</td>\n",
       "      <td>Alabama 7th District</td>\n",
       "      <td>Sewell, Terri A.</td>\n",
       "    </tr>\n",
       "  </tbody>\n",
       "</table>\n",
       "</div>"
      ],
      "text/plain": [
       "         username                       date  \\\n",
       "0  RepTerriSewell  2021-07-06 19:45:12+00:00   \n",
       "1  RepTerriSewell  2021-07-06 15:24:27+00:00   \n",
       "2  RepTerriSewell  2021-07-04 15:33:57+00:00   \n",
       "3  RepTerriSewell  2021-07-03 00:02:45+00:00   \n",
       "4  RepTerriSewell  2021-07-02 16:18:27+00:00   \n",
       "\n",
       "                                       tweet_content party         chamber  \\\n",
       "0  189 people killed. 540 shootings. In a single ...     D  Representative   \n",
       "1  🚨ALABAMA FAMILIES🚨\\n\\nIn just 9 days, hard-wor...     D  Representative   \n",
       "2  Happy #July4th Alabama!\\n\\nAs we celebrate our...     D  Representative   \n",
       "3  On the 57th anniversary of the #CivilRightsAct...     D  Representative   \n",
       "4  Wonderful news from today’s jobs report!\\n\\n✅ ...     D  Representative   \n",
       "\n",
       "                  state              name  \n",
       "0  Alabama 7th District  Sewell, Terri A.  \n",
       "1  Alabama 7th District  Sewell, Terri A.  \n",
       "2  Alabama 7th District  Sewell, Terri A.  \n",
       "3  Alabama 7th District  Sewell, Terri A.  \n",
       "4  Alabama 7th District  Sewell, Terri A.  "
      ]
     },
     "execution_count": 11,
     "metadata": {},
     "output_type": "execute_result"
    }
   ],
   "source": [
    "all_tweets = all_tweets[all_tweets[\"username\"].isin(usernames)]\n",
    "all_tweets = all_tweets[[\"username\", \"date\", \"tweet_content\", \"party\", \"chamber\", \"state\", \"name\"]]\n",
    "all_tweets.head()"
   ]
  },
  {
   "cell_type": "markdown",
   "metadata": {},
   "source": [
    "# Exploratory analysis of tweet frequences"
   ]
  },
  {
   "cell_type": "code",
   "execution_count": 12,
   "metadata": {},
   "outputs": [],
   "source": [
    "tweet_counts = \\\n",
    "    all_tweets.groupby([\"username\", \"party\", \"chamber\", \"state\"], as_index = False)\\\n",
    "        .size()\\\n",
    "        .sort_values(\"size\",ascending=False)"
   ]
  },
  {
   "cell_type": "code",
   "execution_count": 13,
   "metadata": {},
   "outputs": [
    {
     "data": {
      "text/html": [
       "<div>\n",
       "<style scoped>\n",
       "    .dataframe tbody tr th:only-of-type {\n",
       "        vertical-align: middle;\n",
       "    }\n",
       "\n",
       "    .dataframe tbody tr th {\n",
       "        vertical-align: top;\n",
       "    }\n",
       "\n",
       "    .dataframe thead th {\n",
       "        text-align: right;\n",
       "    }\n",
       "</style>\n",
       "<table border=\"1\" class=\"dataframe\">\n",
       "  <thead>\n",
       "    <tr style=\"text-align: right;\">\n",
       "      <th></th>\n",
       "      <th>username</th>\n",
       "      <th>party</th>\n",
       "      <th>chamber</th>\n",
       "      <th>state</th>\n",
       "      <th>size</th>\n",
       "    </tr>\n",
       "  </thead>\n",
       "  <tbody>\n",
       "    <tr>\n",
       "      <th>72</th>\n",
       "      <td>JohnCornyn</td>\n",
       "      <td>R</td>\n",
       "      <td>Senator</td>\n",
       "      <td>Texas</td>\n",
       "      <td>4680</td>\n",
       "    </tr>\n",
       "    <tr>\n",
       "      <th>7</th>\n",
       "      <td>BillHagertyTN</td>\n",
       "      <td>R</td>\n",
       "      <td>Senator</td>\n",
       "      <td>Tennessee</td>\n",
       "      <td>4602</td>\n",
       "    </tr>\n",
       "    <tr>\n",
       "      <th>8</th>\n",
       "      <td>BillPascrell</td>\n",
       "      <td>D</td>\n",
       "      <td>Representative</td>\n",
       "      <td>New Jersey 9th District</td>\n",
       "      <td>4542</td>\n",
       "    </tr>\n",
       "    <tr>\n",
       "      <th>490</th>\n",
       "      <td>mtgreenee</td>\n",
       "      <td>R</td>\n",
       "      <td>Representative</td>\n",
       "      <td>Georgia 14th District</td>\n",
       "      <td>4075</td>\n",
       "    </tr>\n",
       "    <tr>\n",
       "      <th>418</th>\n",
       "      <td>SenTedCruz</td>\n",
       "      <td>R</td>\n",
       "      <td>Senator</td>\n",
       "      <td>Texas</td>\n",
       "      <td>3754</td>\n",
       "    </tr>\n",
       "    <tr>\n",
       "      <th>...</th>\n",
       "      <td>...</td>\n",
       "      <td>...</td>\n",
       "      <td>...</td>\n",
       "      <td>...</td>\n",
       "      <td>...</td>\n",
       "    </tr>\n",
       "    <tr>\n",
       "      <th>101</th>\n",
       "      <td>MikeKellyforPA</td>\n",
       "      <td>R</td>\n",
       "      <td>Representative</td>\n",
       "      <td>Pennsylvania 16th District</td>\n",
       "      <td>23</td>\n",
       "    </tr>\n",
       "    <tr>\n",
       "      <th>306</th>\n",
       "      <td>RepMoolenaar</td>\n",
       "      <td>R</td>\n",
       "      <td>Representative</td>\n",
       "      <td>Michigan 4th District</td>\n",
       "      <td>18</td>\n",
       "    </tr>\n",
       "    <tr>\n",
       "      <th>413</th>\n",
       "      <td>SenSasse</td>\n",
       "      <td>R</td>\n",
       "      <td>Senator</td>\n",
       "      <td>Nebraska</td>\n",
       "      <td>9</td>\n",
       "    </tr>\n",
       "    <tr>\n",
       "      <th>41</th>\n",
       "      <td>FallonForTexas</td>\n",
       "      <td>R</td>\n",
       "      <td>Representative</td>\n",
       "      <td>Texas 4th District</td>\n",
       "      <td>5</td>\n",
       "    </tr>\n",
       "    <tr>\n",
       "      <th>50</th>\n",
       "      <td>GuamCongressman</td>\n",
       "      <td>D</td>\n",
       "      <td>Representative</td>\n",
       "      <td>Guam At-Large</td>\n",
       "      <td>2</td>\n",
       "    </tr>\n",
       "  </tbody>\n",
       "</table>\n",
       "<p>507 rows × 5 columns</p>\n",
       "</div>"
      ],
      "text/plain": [
       "            username party         chamber                       state  size\n",
       "72        JohnCornyn     R         Senator                       Texas  4680\n",
       "7      BillHagertyTN     R         Senator                   Tennessee  4602\n",
       "8       BillPascrell     D  Representative     New Jersey 9th District  4542\n",
       "490        mtgreenee     R  Representative       Georgia 14th District  4075\n",
       "418       SenTedCruz     R         Senator                       Texas  3754\n",
       "..               ...   ...             ...                         ...   ...\n",
       "101   MikeKellyforPA     R  Representative  Pennsylvania 16th District    23\n",
       "306     RepMoolenaar     R  Representative       Michigan 4th District    18\n",
       "413         SenSasse     R         Senator                    Nebraska     9\n",
       "41    FallonForTexas     R  Representative          Texas 4th District     5\n",
       "50   GuamCongressman     D  Representative               Guam At-Large     2\n",
       "\n",
       "[507 rows x 5 columns]"
      ]
     },
     "execution_count": 13,
     "metadata": {},
     "output_type": "execute_result"
    }
   ],
   "source": [
    "tweet_counts"
   ]
  },
  {
   "cell_type": "markdown",
   "metadata": {},
   "source": [
    "## Tweets by party"
   ]
  },
  {
   "cell_type": "markdown",
   "metadata": {},
   "source": [
    "Plotting the density of total tweets in the given time period by individual members of congress seems to show that Democrats tweet on average more frequently than Republicans, in both chambers."
   ]
  },
  {
   "cell_type": "code",
   "execution_count": 14,
   "metadata": {},
   "outputs": [
    {
     "data": {
      "image/png": "[encoded data removed]",
      "text/plain": [
       "<Figure size 1200x680 with 2 Axes>"
      ]
     },
     "metadata": {},
     "output_type": "display_data"
    },
    {
     "data": {
      "text/plain": [
       "<ggplot: (8737459274650)>"
      ]
     },
     "execution_count": 14,
     "metadata": {},
     "output_type": "execute_result"
    }
   ],
   "source": [
    "p9.ggplot(\n",
    "    tweet_counts,\n",
    "    p9.aes(x = \"size\",\n",
    "           fill = \"party\")) + \\\n",
    "    p9.geom_density(alpha = 0.7) + \\\n",
    "    p9.theme_bw() + \\\n",
    "    p9.ylab(\"Density\") + \\\n",
    "    p9.xlab(\"# Tweets YTD\") + \\\n",
    "    p9.ggtitle(\"# Tweets by Party\") + \\\n",
    "    p9.facet_wrap(\"~ chamber\", scales = \"free_y\") + \\\n",
    "    p9.theme(subplots_adjust={\"wspace\": 0.25})"
   ]
  },
  {
   "cell_type": "markdown",
   "metadata": {},
   "source": [
    "## Tweets by chamber"
   ]
  },
  {
   "cell_type": "markdown",
   "metadata": {},
   "source": [
    "Switching the grouping to show party in different facets and chamber by shading suggests that senators tweet more often on average than representatives, regardless of party."
   ]
  },
  {
   "cell_type": "code",
   "execution_count": 15,
   "metadata": {},
   "outputs": [
    {
     "data": {
      "image/png": "[encoded data removed]",
      "text/plain": [
       "<Figure size 1200x680 with 2 Axes>"
      ]
     },
     "metadata": {},
     "output_type": "display_data"
    },
    {
     "data": {
      "text/plain": [
       "<ggplot: (8737453643792)>"
      ]
     },
     "execution_count": 15,
     "metadata": {},
     "output_type": "execute_result"
    }
   ],
   "source": [
    "p9.ggplot(\n",
    "    tweet_counts,\n",
    "    p9.aes(x = \"size\",\n",
    "           fill = \"chamber\")) + \\\n",
    "    p9.geom_density(alpha = 0.7) + \\\n",
    "    p9.theme_bw() + \\\n",
    "    p9.ylab(\"Density\") + \\\n",
    "    p9.xlab(\"# Tweets YTD\") + \\\n",
    "    p9.ggtitle(\"# Tweets by Party\") + \\\n",
    "    p9.facet_wrap(\"~ party\", scales = \"free_y\") + \\\n",
    "    p9.theme(subplots_adjust = {\"wspace\": 0.25})"
   ]
  },
  {
   "cell_type": "code",
   "execution_count": 43,
   "metadata": {},
   "outputs": [
    {
     "data": {
      "text/html": [
       "<div>\n",
       "<style scoped>\n",
       "    .dataframe tbody tr th:only-of-type {\n",
       "        vertical-align: middle;\n",
       "    }\n",
       "\n",
       "    .dataframe tbody tr th {\n",
       "        vertical-align: top;\n",
       "    }\n",
       "\n",
       "    .dataframe thead th {\n",
       "        text-align: right;\n",
       "    }\n",
       "</style>\n",
       "<table border=\"1\" class=\"dataframe\">\n",
       "  <thead>\n",
       "    <tr style=\"text-align: right;\">\n",
       "      <th></th>\n",
       "      <th>name</th>\n",
       "      <th>chamber</th>\n",
       "      <th>state</th>\n",
       "      <th>size</th>\n",
       "    </tr>\n",
       "  </thead>\n",
       "  <tbody>\n",
       "    <tr>\n",
       "      <th>92</th>\n",
       "      <td>Cornyn, John</td>\n",
       "      <td>Senator</td>\n",
       "      <td>Texas</td>\n",
       "      <td>4680</td>\n",
       "    </tr>\n",
       "    <tr>\n",
       "      <th>187</th>\n",
       "      <td>Hagerty, Bill</td>\n",
       "      <td>Senator</td>\n",
       "      <td>Tennessee</td>\n",
       "      <td>4602</td>\n",
       "    </tr>\n",
       "    <tr>\n",
       "      <th>352</th>\n",
       "      <td>Pascrell Jr., Bill</td>\n",
       "      <td>Representative</td>\n",
       "      <td>New Jersey 9th District</td>\n",
       "      <td>4542</td>\n",
       "    </tr>\n",
       "    <tr>\n",
       "      <th>179</th>\n",
       "      <td>Greene, Marjorie Taylor</td>\n",
       "      <td>Representative</td>\n",
       "      <td>Georgia 14th District</td>\n",
       "      <td>4075</td>\n",
       "    </tr>\n",
       "    <tr>\n",
       "      <th>105</th>\n",
       "      <td>Cruz, Ted</td>\n",
       "      <td>Senator</td>\n",
       "      <td>Texas</td>\n",
       "      <td>3754</td>\n",
       "    </tr>\n",
       "    <tr>\n",
       "      <th>...</th>\n",
       "      <td>...</td>\n",
       "      <td>...</td>\n",
       "      <td>...</td>\n",
       "      <td>...</td>\n",
       "    </tr>\n",
       "    <tr>\n",
       "      <th>236</th>\n",
       "      <td>Kelly, Mike</td>\n",
       "      <td>Representative</td>\n",
       "      <td>Pennsylvania 16th District</td>\n",
       "      <td>23</td>\n",
       "    </tr>\n",
       "    <tr>\n",
       "      <th>313</th>\n",
       "      <td>Moolenaar, John</td>\n",
       "      <td>Representative</td>\n",
       "      <td>Michigan 4th District</td>\n",
       "      <td>18</td>\n",
       "    </tr>\n",
       "    <tr>\n",
       "      <th>400</th>\n",
       "      <td>Sasse, Ben</td>\n",
       "      <td>Senator</td>\n",
       "      <td>Nebraska</td>\n",
       "      <td>9</td>\n",
       "    </tr>\n",
       "    <tr>\n",
       "      <th>135</th>\n",
       "      <td>Fallon, Pat</td>\n",
       "      <td>Representative</td>\n",
       "      <td>Texas 4th District</td>\n",
       "      <td>5</td>\n",
       "    </tr>\n",
       "    <tr>\n",
       "      <th>398</th>\n",
       "      <td>San Nicolas, Michael F.Q.</td>\n",
       "      <td>Representative</td>\n",
       "      <td>Guam At-Large</td>\n",
       "      <td>2</td>\n",
       "    </tr>\n",
       "  </tbody>\n",
       "</table>\n",
       "<p>507 rows × 4 columns</p>\n",
       "</div>"
      ],
      "text/plain": [
       "                          name         chamber                       state  \\\n",
       "92                Cornyn, John         Senator                       Texas   \n",
       "187              Hagerty, Bill         Senator                   Tennessee   \n",
       "352         Pascrell Jr., Bill  Representative     New Jersey 9th District   \n",
       "179    Greene, Marjorie Taylor  Representative       Georgia 14th District   \n",
       "105                  Cruz, Ted         Senator                       Texas   \n",
       "..                         ...             ...                         ...   \n",
       "236                Kelly, Mike  Representative  Pennsylvania 16th District   \n",
       "313            Moolenaar, John  Representative       Michigan 4th District   \n",
       "400                 Sasse, Ben         Senator                    Nebraska   \n",
       "135                Fallon, Pat  Representative          Texas 4th District   \n",
       "398  San Nicolas, Michael F.Q.  Representative               Guam At-Large   \n",
       "\n",
       "     size  \n",
       "92   4680  \n",
       "187  4602  \n",
       "352  4542  \n",
       "179  4075  \n",
       "105  3754  \n",
       "..    ...  \n",
       "236    23  \n",
       "313    18  \n",
       "400     9  \n",
       "135     5  \n",
       "398     2  \n",
       "\n",
       "[507 rows x 4 columns]"
      ]
     },
     "execution_count": 43,
     "metadata": {},
     "output_type": "execute_result"
    }
   ],
   "source": [
    "tweet_counts_person = all_tweets\\\n",
    "    .groupby([\"name\", \"chamber\", \"state\", \"party\"], as_index = False)\\\n",
    "    .size()\\\n",
    "    .sort_values(by = \"size\", ascending = False)\n",
    "\n",
    "tweet_counts_person"
   ]
  },
  {
   "cell_type": "markdown",
   "metadata": {},
   "source": [
    "## Tweet counts by person"
   ]
  },
  {
   "cell_type": "markdown",
   "metadata": {},
   "source": [
    "Need to replace or eliminate this -- can't see what's going on currently. "
   ]
  },
  {
   "cell_type": "code",
   "execution_count": 55,
   "metadata": {},
   "outputs": [
    {
     "data": {
      "text/html": [
       "<div>\n",
       "<style scoped>\n",
       "    .dataframe tbody tr th:only-of-type {\n",
       "        vertical-align: middle;\n",
       "    }\n",
       "\n",
       "    .dataframe tbody tr th {\n",
       "        vertical-align: top;\n",
       "    }\n",
       "\n",
       "    .dataframe thead th {\n",
       "        text-align: right;\n",
       "    }\n",
       "</style>\n",
       "<table border=\"1\" class=\"dataframe\">\n",
       "  <thead>\n",
       "    <tr style=\"text-align: right;\">\n",
       "      <th></th>\n",
       "      <th>index</th>\n",
       "      <th>name</th>\n",
       "      <th>chamber</th>\n",
       "      <th>state</th>\n",
       "      <th>size</th>\n",
       "    </tr>\n",
       "  </thead>\n",
       "  <tbody>\n",
       "    <tr>\n",
       "      <th>0</th>\n",
       "      <td>92</td>\n",
       "      <td>Cornyn, John</td>\n",
       "      <td>Senator</td>\n",
       "      <td>Texas</td>\n",
       "      <td>4680</td>\n",
       "    </tr>\n",
       "    <tr>\n",
       "      <th>1</th>\n",
       "      <td>187</td>\n",
       "      <td>Hagerty, Bill</td>\n",
       "      <td>Senator</td>\n",
       "      <td>Tennessee</td>\n",
       "      <td>4602</td>\n",
       "    </tr>\n",
       "    <tr>\n",
       "      <th>2</th>\n",
       "      <td>352</td>\n",
       "      <td>Pascrell Jr., Bill</td>\n",
       "      <td>Representative</td>\n",
       "      <td>New Jersey 9th District</td>\n",
       "      <td>4542</td>\n",
       "    </tr>\n",
       "    <tr>\n",
       "      <th>3</th>\n",
       "      <td>179</td>\n",
       "      <td>Greene, Marjorie Taylor</td>\n",
       "      <td>Representative</td>\n",
       "      <td>Georgia 14th District</td>\n",
       "      <td>4075</td>\n",
       "    </tr>\n",
       "    <tr>\n",
       "      <th>4</th>\n",
       "      <td>105</td>\n",
       "      <td>Cruz, Ted</td>\n",
       "      <td>Senator</td>\n",
       "      <td>Texas</td>\n",
       "      <td>3754</td>\n",
       "    </tr>\n",
       "  </tbody>\n",
       "</table>\n",
       "</div>"
      ],
      "text/plain": [
       "   index                     name         chamber                    state  \\\n",
       "0     92             Cornyn, John         Senator                    Texas   \n",
       "1    187            Hagerty, Bill         Senator                Tennessee   \n",
       "2    352       Pascrell Jr., Bill  Representative  New Jersey 9th District   \n",
       "3    179  Greene, Marjorie Taylor  Representative    Georgia 14th District   \n",
       "4    105                Cruz, Ted         Senator                    Texas   \n",
       "\n",
       "   size  \n",
       "0  4680  \n",
       "1  4602  \n",
       "2  4542  \n",
       "3  4075  \n",
       "4  3754  "
      ]
     },
     "execution_count": 55,
     "metadata": {},
     "output_type": "execute_result"
    }
   ],
   "source": [
    "top50_tweeters = tweet_counts_person.iloc[0:50,:].reset_index()\n",
    "\n",
    "top50_tweeters.head()\n"
   ]
  },
  {
   "cell_type": "code",
   "execution_count": 54,
   "metadata": {},
   "outputs": [
    {
     "ename": "PlotnineError",
     "evalue": "\"Could not evaluate the 'fill' mapping: 'party' (original error: name 'party' is not defined)\"",
     "output_type": "error",
     "traceback": [
      "\u001b[0;31m---------------------------------------------------------------------------\u001b[0m",
      "\u001b[0;31mNameError\u001b[0m                                 Traceback (most recent call last)",
      "\u001b[0;32m~/projects/congress_twitter/venv/lib/python3.8/site-packages/plotnine/mapping/evaluation.py\u001b[0m in \u001b[0;36mevaluate\u001b[0;34m(aesthetics, data, env)\u001b[0m\n\u001b[1;32m    216\u001b[0m                 \u001b[0;32mtry\u001b[0m\u001b[0;34m:\u001b[0m\u001b[0;34m\u001b[0m\u001b[0;34m\u001b[0m\u001b[0m\n\u001b[0;32m--> 217\u001b[0;31m                     \u001b[0mnew_val\u001b[0m \u001b[0;34m=\u001b[0m \u001b[0menv\u001b[0m\u001b[0;34m.\u001b[0m\u001b[0meval\u001b[0m\u001b[0;34m(\u001b[0m\u001b[0mcol\u001b[0m\u001b[0;34m,\u001b[0m \u001b[0minner_namespace\u001b[0m\u001b[0;34m=\u001b[0m\u001b[0mdata\u001b[0m\u001b[0;34m)\u001b[0m\u001b[0;34m\u001b[0m\u001b[0;34m\u001b[0m\u001b[0m\n\u001b[0m\u001b[1;32m    218\u001b[0m                 \u001b[0;32mexcept\u001b[0m \u001b[0mException\u001b[0m \u001b[0;32mas\u001b[0m \u001b[0me\u001b[0m\u001b[0;34m:\u001b[0m\u001b[0;34m\u001b[0m\u001b[0;34m\u001b[0m\u001b[0m\n",
      "\u001b[0;32m~/projects/congress_twitter/venv/lib/python3.8/site-packages/patsy/eval.py\u001b[0m in \u001b[0;36meval\u001b[0;34m(self, expr, source_name, inner_namespace)\u001b[0m\n\u001b[1;32m    164\u001b[0m         \u001b[0mcode\u001b[0m \u001b[0;34m=\u001b[0m \u001b[0mcompile\u001b[0m\u001b[0;34m(\u001b[0m\u001b[0mexpr\u001b[0m\u001b[0;34m,\u001b[0m \u001b[0msource_name\u001b[0m\u001b[0;34m,\u001b[0m \u001b[0;34m\"eval\"\u001b[0m\u001b[0;34m,\u001b[0m \u001b[0mself\u001b[0m\u001b[0;34m.\u001b[0m\u001b[0mflags\u001b[0m\u001b[0;34m,\u001b[0m \u001b[0;32mFalse\u001b[0m\u001b[0;34m)\u001b[0m\u001b[0;34m\u001b[0m\u001b[0;34m\u001b[0m\u001b[0m\n\u001b[0;32m--> 165\u001b[0;31m         return eval(code, {}, VarLookupDict([inner_namespace]\n\u001b[0m\u001b[1;32m    166\u001b[0m                                             + self._namespaces))\n",
      "\u001b[0;32m<string>\u001b[0m in \u001b[0;36m<module>\u001b[0;34m\u001b[0m\n",
      "\u001b[0;31mNameError\u001b[0m: name 'party' is not defined",
      "\nDuring handling of the above exception, another exception occurred:\n",
      "\u001b[0;31mPlotnineError\u001b[0m                             Traceback (most recent call last)",
      "\u001b[0;32m~/projects/congress_twitter/venv/lib/python3.8/site-packages/IPython/core/formatters.py\u001b[0m in \u001b[0;36m__call__\u001b[0;34m(self, obj)\u001b[0m\n\u001b[1;32m    700\u001b[0m                 \u001b[0mtype_pprinters\u001b[0m\u001b[0;34m=\u001b[0m\u001b[0mself\u001b[0m\u001b[0;34m.\u001b[0m\u001b[0mtype_printers\u001b[0m\u001b[0;34m,\u001b[0m\u001b[0;34m\u001b[0m\u001b[0;34m\u001b[0m\u001b[0m\n\u001b[1;32m    701\u001b[0m                 deferred_pprinters=self.deferred_printers)\n\u001b[0;32m--> 702\u001b[0;31m             \u001b[0mprinter\u001b[0m\u001b[0;34m.\u001b[0m\u001b[0mpretty\u001b[0m\u001b[0;34m(\u001b[0m\u001b[0mobj\u001b[0m\u001b[0;34m)\u001b[0m\u001b[0;34m\u001b[0m\u001b[0;34m\u001b[0m\u001b[0m\n\u001b[0m\u001b[1;32m    703\u001b[0m             \u001b[0mprinter\u001b[0m\u001b[0;34m.\u001b[0m\u001b[0mflush\u001b[0m\u001b[0;34m(\u001b[0m\u001b[0;34m)\u001b[0m\u001b[0;34m\u001b[0m\u001b[0;34m\u001b[0m\u001b[0m\n\u001b[1;32m    704\u001b[0m             \u001b[0;32mreturn\u001b[0m \u001b[0mstream\u001b[0m\u001b[0;34m.\u001b[0m\u001b[0mgetvalue\u001b[0m\u001b[0;34m(\u001b[0m\u001b[0;34m)\u001b[0m\u001b[0;34m\u001b[0m\u001b[0;34m\u001b[0m\u001b[0m\n",
      "\u001b[0;32m~/projects/congress_twitter/venv/lib/python3.8/site-packages/IPython/lib/pretty.py\u001b[0m in \u001b[0;36mpretty\u001b[0;34m(self, obj)\u001b[0m\n\u001b[1;32m    392\u001b[0m                         \u001b[0;32mif\u001b[0m \u001b[0mcls\u001b[0m \u001b[0;32mis\u001b[0m \u001b[0;32mnot\u001b[0m \u001b[0mobject\u001b[0m\u001b[0;31m \u001b[0m\u001b[0;31m\\\u001b[0m\u001b[0;34m\u001b[0m\u001b[0;34m\u001b[0m\u001b[0m\n\u001b[1;32m    393\u001b[0m                                 \u001b[0;32mand\u001b[0m \u001b[0mcallable\u001b[0m\u001b[0;34m(\u001b[0m\u001b[0mcls\u001b[0m\u001b[0;34m.\u001b[0m\u001b[0m__dict__\u001b[0m\u001b[0;34m.\u001b[0m\u001b[0mget\u001b[0m\u001b[0;34m(\u001b[0m\u001b[0;34m'__repr__'\u001b[0m\u001b[0;34m)\u001b[0m\u001b[0;34m)\u001b[0m\u001b[0;34m:\u001b[0m\u001b[0;34m\u001b[0m\u001b[0;34m\u001b[0m\u001b[0m\n\u001b[0;32m--> 394\u001b[0;31m                             \u001b[0;32mreturn\u001b[0m \u001b[0m_repr_pprint\u001b[0m\u001b[0;34m(\u001b[0m\u001b[0mobj\u001b[0m\u001b[0;34m,\u001b[0m \u001b[0mself\u001b[0m\u001b[0;34m,\u001b[0m \u001b[0mcycle\u001b[0m\u001b[0;34m)\u001b[0m\u001b[0;34m\u001b[0m\u001b[0;34m\u001b[0m\u001b[0m\n\u001b[0m\u001b[1;32m    395\u001b[0m \u001b[0;34m\u001b[0m\u001b[0m\n\u001b[1;32m    396\u001b[0m             \u001b[0;32mreturn\u001b[0m \u001b[0m_default_pprint\u001b[0m\u001b[0;34m(\u001b[0m\u001b[0mobj\u001b[0m\u001b[0;34m,\u001b[0m \u001b[0mself\u001b[0m\u001b[0;34m,\u001b[0m \u001b[0mcycle\u001b[0m\u001b[0;34m)\u001b[0m\u001b[0;34m\u001b[0m\u001b[0;34m\u001b[0m\u001b[0m\n",
      "\u001b[0;32m~/projects/congress_twitter/venv/lib/python3.8/site-packages/IPython/lib/pretty.py\u001b[0m in \u001b[0;36m_repr_pprint\u001b[0;34m(obj, p, cycle)\u001b[0m\n\u001b[1;32m    698\u001b[0m     \u001b[0;34m\"\"\"A pprint that just redirects to the normal repr function.\"\"\"\u001b[0m\u001b[0;34m\u001b[0m\u001b[0;34m\u001b[0m\u001b[0m\n\u001b[1;32m    699\u001b[0m     \u001b[0;31m# Find newlines and replace them with p.break_()\u001b[0m\u001b[0;34m\u001b[0m\u001b[0;34m\u001b[0m\u001b[0;34m\u001b[0m\u001b[0m\n\u001b[0;32m--> 700\u001b[0;31m     \u001b[0moutput\u001b[0m \u001b[0;34m=\u001b[0m \u001b[0mrepr\u001b[0m\u001b[0;34m(\u001b[0m\u001b[0mobj\u001b[0m\u001b[0;34m)\u001b[0m\u001b[0;34m\u001b[0m\u001b[0;34m\u001b[0m\u001b[0m\n\u001b[0m\u001b[1;32m    701\u001b[0m     \u001b[0mlines\u001b[0m \u001b[0;34m=\u001b[0m \u001b[0moutput\u001b[0m\u001b[0;34m.\u001b[0m\u001b[0msplitlines\u001b[0m\u001b[0;34m(\u001b[0m\u001b[0;34m)\u001b[0m\u001b[0;34m\u001b[0m\u001b[0;34m\u001b[0m\u001b[0m\n\u001b[1;32m    702\u001b[0m     \u001b[0;32mwith\u001b[0m \u001b[0mp\u001b[0m\u001b[0;34m.\u001b[0m\u001b[0mgroup\u001b[0m\u001b[0;34m(\u001b[0m\u001b[0;34m)\u001b[0m\u001b[0;34m:\u001b[0m\u001b[0;34m\u001b[0m\u001b[0;34m\u001b[0m\u001b[0m\n",
      "\u001b[0;32m~/projects/congress_twitter/venv/lib/python3.8/site-packages/plotnine/ggplot.py\u001b[0m in \u001b[0;36m__repr__\u001b[0;34m(self)\u001b[0m\n\u001b[1;32m     95\u001b[0m         \u001b[0mPrint\u001b[0m\u001b[0;34m/\u001b[0m\u001b[0mshow\u001b[0m \u001b[0mthe\u001b[0m \u001b[0mplot\u001b[0m\u001b[0;34m\u001b[0m\u001b[0;34m\u001b[0m\u001b[0m\n\u001b[1;32m     96\u001b[0m         \"\"\"\n\u001b[0;32m---> 97\u001b[0;31m         \u001b[0mself\u001b[0m\u001b[0;34m.\u001b[0m\u001b[0m__str__\u001b[0m\u001b[0;34m(\u001b[0m\u001b[0;34m)\u001b[0m\u001b[0;34m\u001b[0m\u001b[0;34m\u001b[0m\u001b[0m\n\u001b[0m\u001b[1;32m     98\u001b[0m         \u001b[0;32mreturn\u001b[0m \u001b[0;34m'<ggplot: (%d)>'\u001b[0m \u001b[0;34m%\u001b[0m \u001b[0mself\u001b[0m\u001b[0;34m.\u001b[0m\u001b[0m__hash__\u001b[0m\u001b[0;34m(\u001b[0m\u001b[0;34m)\u001b[0m\u001b[0;34m\u001b[0m\u001b[0;34m\u001b[0m\u001b[0m\n\u001b[1;32m     99\u001b[0m \u001b[0;34m\u001b[0m\u001b[0m\n",
      "\u001b[0;32m~/projects/congress_twitter/venv/lib/python3.8/site-packages/plotnine/ggplot.py\u001b[0m in \u001b[0;36m__str__\u001b[0;34m(self)\u001b[0m\n\u001b[1;32m     86\u001b[0m         \u001b[0mPrint\u001b[0m\u001b[0;34m/\u001b[0m\u001b[0mshow\u001b[0m \u001b[0mthe\u001b[0m \u001b[0mplot\u001b[0m\u001b[0;34m\u001b[0m\u001b[0;34m\u001b[0m\u001b[0m\n\u001b[1;32m     87\u001b[0m         \"\"\"\n\u001b[0;32m---> 88\u001b[0;31m         \u001b[0mself\u001b[0m\u001b[0;34m.\u001b[0m\u001b[0mdraw\u001b[0m\u001b[0;34m(\u001b[0m\u001b[0mshow\u001b[0m\u001b[0;34m=\u001b[0m\u001b[0;32mTrue\u001b[0m\u001b[0;34m)\u001b[0m\u001b[0;34m\u001b[0m\u001b[0;34m\u001b[0m\u001b[0m\n\u001b[0m\u001b[1;32m     89\u001b[0m \u001b[0;34m\u001b[0m\u001b[0m\n\u001b[1;32m     90\u001b[0m         \u001b[0;31m# Return and empty string so that print(p) is \"pretty\"\u001b[0m\u001b[0;34m\u001b[0m\u001b[0;34m\u001b[0m\u001b[0;34m\u001b[0m\u001b[0m\n",
      "\u001b[0;32m~/projects/congress_twitter/venv/lib/python3.8/site-packages/plotnine/ggplot.py\u001b[0m in \u001b[0;36mdraw\u001b[0;34m(self, return_ggplot, show)\u001b[0m\n\u001b[1;32m    203\u001b[0m         \u001b[0mself\u001b[0m \u001b[0;34m=\u001b[0m \u001b[0mdeepcopy\u001b[0m\u001b[0;34m(\u001b[0m\u001b[0mself\u001b[0m\u001b[0;34m)\u001b[0m\u001b[0;34m\u001b[0m\u001b[0;34m\u001b[0m\u001b[0m\n\u001b[1;32m    204\u001b[0m         \u001b[0;32mwith\u001b[0m \u001b[0mplot_context\u001b[0m\u001b[0;34m(\u001b[0m\u001b[0mself\u001b[0m\u001b[0;34m,\u001b[0m \u001b[0mshow\u001b[0m\u001b[0;34m=\u001b[0m\u001b[0mshow\u001b[0m\u001b[0;34m)\u001b[0m\u001b[0;34m:\u001b[0m\u001b[0;34m\u001b[0m\u001b[0;34m\u001b[0m\u001b[0m\n\u001b[0;32m--> 205\u001b[0;31m             \u001b[0mself\u001b[0m\u001b[0;34m.\u001b[0m\u001b[0m_build\u001b[0m\u001b[0;34m(\u001b[0m\u001b[0;34m)\u001b[0m\u001b[0;34m\u001b[0m\u001b[0;34m\u001b[0m\u001b[0m\n\u001b[0m\u001b[1;32m    206\u001b[0m \u001b[0;34m\u001b[0m\u001b[0m\n\u001b[1;32m    207\u001b[0m             \u001b[0;31m# setup\u001b[0m\u001b[0;34m\u001b[0m\u001b[0;34m\u001b[0m\u001b[0;34m\u001b[0m\u001b[0m\n",
      "\u001b[0;32m~/projects/congress_twitter/venv/lib/python3.8/site-packages/plotnine/ggplot.py\u001b[0m in \u001b[0;36m_build\u001b[0;34m(self)\u001b[0m\n\u001b[1;32m    287\u001b[0m         \u001b[0;31m# Compute aesthetics to produce data with generalised\u001b[0m\u001b[0;34m\u001b[0m\u001b[0;34m\u001b[0m\u001b[0;34m\u001b[0m\u001b[0m\n\u001b[1;32m    288\u001b[0m         \u001b[0;31m# variable names\u001b[0m\u001b[0;34m\u001b[0m\u001b[0;34m\u001b[0m\u001b[0;34m\u001b[0m\u001b[0m\n\u001b[0;32m--> 289\u001b[0;31m         \u001b[0mlayers\u001b[0m\u001b[0;34m.\u001b[0m\u001b[0mcompute_aesthetics\u001b[0m\u001b[0;34m(\u001b[0m\u001b[0mself\u001b[0m\u001b[0;34m)\u001b[0m\u001b[0;34m\u001b[0m\u001b[0;34m\u001b[0m\u001b[0m\n\u001b[0m\u001b[1;32m    290\u001b[0m \u001b[0;34m\u001b[0m\u001b[0m\n\u001b[1;32m    291\u001b[0m         \u001b[0;31m# Transform data using all scales\u001b[0m\u001b[0;34m\u001b[0m\u001b[0;34m\u001b[0m\u001b[0;34m\u001b[0m\u001b[0m\n",
      "\u001b[0;32m~/projects/congress_twitter/venv/lib/python3.8/site-packages/plotnine/layer.py\u001b[0m in \u001b[0;36mcompute_aesthetics\u001b[0;34m(self, plot)\u001b[0m\n\u001b[1;32m     67\u001b[0m     \u001b[0;32mdef\u001b[0m \u001b[0mcompute_aesthetics\u001b[0m\u001b[0;34m(\u001b[0m\u001b[0mself\u001b[0m\u001b[0;34m,\u001b[0m \u001b[0mplot\u001b[0m\u001b[0;34m)\u001b[0m\u001b[0;34m:\u001b[0m\u001b[0;34m\u001b[0m\u001b[0;34m\u001b[0m\u001b[0m\n\u001b[1;32m     68\u001b[0m         \u001b[0;32mfor\u001b[0m \u001b[0ml\u001b[0m \u001b[0;32min\u001b[0m \u001b[0mself\u001b[0m\u001b[0;34m:\u001b[0m\u001b[0;34m\u001b[0m\u001b[0;34m\u001b[0m\u001b[0m\n\u001b[0;32m---> 69\u001b[0;31m             \u001b[0ml\u001b[0m\u001b[0;34m.\u001b[0m\u001b[0mcompute_aesthetics\u001b[0m\u001b[0;34m(\u001b[0m\u001b[0mplot\u001b[0m\u001b[0;34m)\u001b[0m\u001b[0;34m\u001b[0m\u001b[0;34m\u001b[0m\u001b[0m\n\u001b[0m\u001b[1;32m     70\u001b[0m \u001b[0;34m\u001b[0m\u001b[0m\n\u001b[1;32m     71\u001b[0m     \u001b[0;32mdef\u001b[0m \u001b[0mcompute_statistic\u001b[0m\u001b[0;34m(\u001b[0m\u001b[0mself\u001b[0m\u001b[0;34m,\u001b[0m \u001b[0mlayout\u001b[0m\u001b[0;34m)\u001b[0m\u001b[0;34m:\u001b[0m\u001b[0;34m\u001b[0m\u001b[0;34m\u001b[0m\u001b[0m\n",
      "\u001b[0;32m~/projects/congress_twitter/venv/lib/python3.8/site-packages/plotnine/layer.py\u001b[0m in \u001b[0;36mcompute_aesthetics\u001b[0;34m(self, plot)\u001b[0m\n\u001b[1;32m    299\u001b[0m         \u001b[0mexpression\u001b[0m \u001b[0mevaluation\u001b[0m \u001b[0mare\u001b[0m  \u001b[0mmade\u001b[0m \u001b[0;32min\u001b[0m \u001b[0mhere\u001b[0m\u001b[0;34m\u001b[0m\u001b[0;34m\u001b[0m\u001b[0m\n\u001b[1;32m    300\u001b[0m         \"\"\"\n\u001b[0;32m--> 301\u001b[0;31m         \u001b[0mevaled\u001b[0m \u001b[0;34m=\u001b[0m \u001b[0mevaluate\u001b[0m\u001b[0;34m(\u001b[0m\u001b[0mself\u001b[0m\u001b[0;34m.\u001b[0m\u001b[0mmapping\u001b[0m\u001b[0;34m.\u001b[0m\u001b[0m_starting\u001b[0m\u001b[0;34m,\u001b[0m \u001b[0mself\u001b[0m\u001b[0;34m.\u001b[0m\u001b[0mdata\u001b[0m\u001b[0;34m,\u001b[0m \u001b[0mplot\u001b[0m\u001b[0;34m.\u001b[0m\u001b[0menvironment\u001b[0m\u001b[0;34m)\u001b[0m\u001b[0;34m\u001b[0m\u001b[0;34m\u001b[0m\u001b[0m\n\u001b[0m\u001b[1;32m    302\u001b[0m         \u001b[0mevaled_aes\u001b[0m \u001b[0;34m=\u001b[0m \u001b[0maes\u001b[0m\u001b[0;34m(\u001b[0m\u001b[0;34m**\u001b[0m\u001b[0;34m{\u001b[0m\u001b[0mcol\u001b[0m\u001b[0;34m:\u001b[0m \u001b[0mcol\u001b[0m \u001b[0;32mfor\u001b[0m \u001b[0mcol\u001b[0m \u001b[0;32min\u001b[0m \u001b[0mevaled\u001b[0m\u001b[0;34m}\u001b[0m\u001b[0;34m)\u001b[0m\u001b[0;34m\u001b[0m\u001b[0;34m\u001b[0m\u001b[0m\n\u001b[1;32m    303\u001b[0m         \u001b[0mplot\u001b[0m\u001b[0;34m.\u001b[0m\u001b[0mscales\u001b[0m\u001b[0;34m.\u001b[0m\u001b[0madd_defaults\u001b[0m\u001b[0;34m(\u001b[0m\u001b[0mevaled\u001b[0m\u001b[0;34m,\u001b[0m \u001b[0mevaled_aes\u001b[0m\u001b[0;34m)\u001b[0m\u001b[0;34m\u001b[0m\u001b[0;34m\u001b[0m\u001b[0m\n",
      "\u001b[0;32m~/projects/congress_twitter/venv/lib/python3.8/site-packages/plotnine/mapping/evaluation.py\u001b[0m in \u001b[0;36mevaluate\u001b[0;34m(aesthetics, data, env)\u001b[0m\n\u001b[1;32m    217\u001b[0m                     \u001b[0mnew_val\u001b[0m \u001b[0;34m=\u001b[0m \u001b[0menv\u001b[0m\u001b[0;34m.\u001b[0m\u001b[0meval\u001b[0m\u001b[0;34m(\u001b[0m\u001b[0mcol\u001b[0m\u001b[0;34m,\u001b[0m \u001b[0minner_namespace\u001b[0m\u001b[0;34m=\u001b[0m\u001b[0mdata\u001b[0m\u001b[0;34m)\u001b[0m\u001b[0;34m\u001b[0m\u001b[0;34m\u001b[0m\u001b[0m\n\u001b[1;32m    218\u001b[0m                 \u001b[0;32mexcept\u001b[0m \u001b[0mException\u001b[0m \u001b[0;32mas\u001b[0m \u001b[0me\u001b[0m\u001b[0;34m:\u001b[0m\u001b[0;34m\u001b[0m\u001b[0;34m\u001b[0m\u001b[0m\n\u001b[0;32m--> 219\u001b[0;31m                     raise PlotnineError(\n\u001b[0m\u001b[1;32m    220\u001b[0m                         _TPL_EVAL_FAIL.format(ae, col, str(e)))\n\u001b[1;32m    221\u001b[0m \u001b[0;34m\u001b[0m\u001b[0m\n",
      "\u001b[0;31mPlotnineError\u001b[0m: \"Could not evaluate the 'fill' mapping: 'party' (original error: name 'party' is not defined)\""
     ]
    }
   ],
   "source": [
    "p9.ggplot(\n",
    "    top50_tweeters,\n",
    "    p9.aes(x = \"name\", y = \"size\", fill = \"party\")) + \\\n",
    "    p9.geom_col() + \\\n",
    "    p9.theme_bw() + \\\n",
    "    p9.theme(axis_text_x = p9.element_text(angle = -90)) + \\\n",
    "    p9.scale_x_discrete(limits = top50_tweeters.name.to_list()) + \\\n",
    "    p9.facet_wrap(\"~ chamber\", scales = \"free_y\", ncol = 2)"
   ]
  },
  {
   "cell_type": "markdown",
   "metadata": {},
   "source": [
    "## Generating Features"
   ]
  },
  {
   "cell_type": "markdown",
   "metadata": {},
   "source": [
    "Start generating features -- first we take tweet content and lemmatize it.  We use pandarallel parallel apply here to get a substantial speedup."
   ]
  },
  {
   "cell_type": "code",
   "execution_count": 13,
   "metadata": {},
   "outputs": [],
   "source": [
    "nlp = spacy.load('en_core_web_lg')\n",
    "\n",
    "stopwords = nlp.Defaults.stop_words"
   ]
  },
  {
   "cell_type": "code",
   "execution_count": 29,
   "metadata": {},
   "outputs": [
    {
     "name": "stdout",
     "output_type": "stream",
     "text": [
      "INFO: Pandarallel will run on 12 workers.\n",
      "INFO: Pandarallel will use Memory file system to transfer data between the main process and workers.\n"
     ]
    }
   ],
   "source": [
    "pandarallel.initialize()"
   ]
  },
  {
   "cell_type": "code",
   "execution_count": 44,
   "metadata": {},
   "outputs": [],
   "source": [
    "all_tweets[\"tweet_lemmas\"] = all_tweets[\"tweet_content\"].parallel_apply(text_processing.preprocess)"
   ]
  },
  {
   "cell_type": "code",
   "execution_count": 36,
   "metadata": {},
   "outputs": [],
   "source": [
    "pos_df = pd.DataFrame(all_tweets[\"tweet_content\"].parallel_apply(text_processing.get_pos).to_list()).fillna(0)"
   ]
  },
  {
   "cell_type": "markdown",
   "metadata": {},
   "source": [
    "# Naive Bayes BOW"
   ]
  },
  {
   "cell_type": "code",
   "execution_count": 37,
   "metadata": {},
   "outputs": [],
   "source": [
    "features = all_tweets[\"tweet_content\"]\n",
    "response = pd.get_dummies(all_tweets[\"party\"])[\"D\"]"
   ]
  },
  {
   "cell_type": "code",
   "execution_count": 31,
   "metadata": {},
   "outputs": [],
   "source": [
    "X_train, X_test, y_train, y_test = train_test_split(features, response, test_size=0.3, random_state = 42)\n",
    "vectorizer = CountVectorizer()\n",
    "X_train = vectorizer.fit_transform(X_train)\n",
    "X_test = vectorizer.transform(X_test)"
   ]
  },
  {
   "cell_type": "code",
   "execution_count": 32,
   "metadata": {},
   "outputs": [],
   "source": [
    "clf = MultinomialNB()\n",
    "scores = cross_val_score(clf, X_train, y_train, cv=5)"
   ]
  },
  {
   "cell_type": "code",
   "execution_count": 33,
   "metadata": {},
   "outputs": [
    {
     "data": {
      "text/plain": [
       "array([0.82754594, 0.8275936 , 0.82811792, 0.82582998, 0.82949616])"
      ]
     },
     "execution_count": 33,
     "metadata": {},
     "output_type": "execute_result"
    }
   ],
   "source": [
    "scores"
   ]
  },
  {
   "cell_type": "code",
   "execution_count": 34,
   "metadata": {},
   "outputs": [
    {
     "data": {
      "text/plain": [
       "MultinomialNB()"
      ]
     },
     "execution_count": 34,
     "metadata": {},
     "output_type": "execute_result"
    }
   ],
   "source": [
    "clf.fit(X_train, y_train)"
   ]
  },
  {
   "cell_type": "code",
   "execution_count": 35,
   "metadata": {},
   "outputs": [
    {
     "name": "stdout",
     "output_type": "stream",
     "text": [
      "The accuracy of the classifier on the test set is 0.831\n"
     ]
    }
   ],
   "source": [
    "accuracy = clf.score(X_test, y_test)\n",
    "print(\"The accuracy of the classifier on the test set is %.3f\" % accuracy)"
   ]
  },
  {
   "cell_type": "markdown",
   "metadata": {},
   "source": [
    "# Naive Bayes BOW lemmas"
   ]
  },
  {
   "cell_type": "code",
   "execution_count": 45,
   "metadata": {},
   "outputs": [],
   "source": [
    "features = all_tweets[\"tweet_lemmas\"]\n",
    "response = pd.get_dummies(all_tweets[\"party\"])[\"D\"]"
   ]
  },
  {
   "cell_type": "code",
   "execution_count": 46,
   "metadata": {},
   "outputs": [],
   "source": [
    "X_train, X_test, y_train, y_test = train_test_split(features, response, test_size=0.3, random_state = 42)\n",
    "vectorizer = CountVectorizer()\n",
    "X_train = vectorizer.fit_transform(X_train)\n",
    "X_test = vectorizer.transform(X_test)"
   ]
  },
  {
   "cell_type": "code",
   "execution_count": 47,
   "metadata": {},
   "outputs": [],
   "source": [
    "clf = MultinomialNB()\n",
    "scores = cross_val_score(clf, X_train, y_train, cv=5)"
   ]
  },
  {
   "cell_type": "code",
   "execution_count": 48,
   "metadata": {},
   "outputs": [
    {
     "data": {
      "text/plain": [
       "array([0.79939941, 0.79904192, 0.79978074, 0.80051955, 0.80170647])"
      ]
     },
     "execution_count": 48,
     "metadata": {},
     "output_type": "execute_result"
    }
   ],
   "source": [
    "scores"
   ]
  },
  {
   "cell_type": "code",
   "execution_count": 49,
   "metadata": {},
   "outputs": [
    {
     "data": {
      "text/plain": [
       "MultinomialNB()"
      ]
     },
     "execution_count": 49,
     "metadata": {},
     "output_type": "execute_result"
    }
   ],
   "source": [
    "clf.fit(X_train, y_train)"
   ]
  },
  {
   "cell_type": "code",
   "execution_count": 50,
   "metadata": {},
   "outputs": [
    {
     "name": "stdout",
     "output_type": "stream",
     "text": [
      "The accuracy of the classifier on the test set is 0.804\n"
     ]
    }
   ],
   "source": [
    "accuracy = clf.score(X_test, y_test)\n",
    "print(\"The accuracy of the classifier on the test set is %.3f\" % accuracy)"
   ]
  },
  {
   "cell_type": "markdown",
   "metadata": {},
   "source": [
    "# Random Forest BOW lemmas (max 400)"
   ]
  },
  {
   "cell_type": "code",
   "execution_count": 51,
   "metadata": {},
   "outputs": [],
   "source": [
    "from sklearn.ensemble import RandomForestClassifier"
   ]
  },
  {
   "cell_type": "code",
   "execution_count": 52,
   "metadata": {},
   "outputs": [],
   "source": [
    "X_train, X_test, y_train, y_test = train_test_split(features, response, test_size=0.3, random_state = 42)\n",
    "vectorizer = CountVectorizer(max_features=400)\n",
    "X_train = vectorizer.fit_transform(X_train)\n",
    "X_test = vectorizer.transform(X_test)"
   ]
  },
  {
   "cell_type": "code",
   "execution_count": 53,
   "metadata": {},
   "outputs": [
    {
     "data": {
      "text/plain": [
       "array([0.71867776, 0.72091804, 0.71808194, 0.72027455, 0.72210306])"
      ]
     },
     "execution_count": 53,
     "metadata": {},
     "output_type": "execute_result"
    }
   ],
   "source": [
    "clf = RandomForestClassifier(n_estimators=50, n_jobs = 10)\n",
    "scores = cross_val_score(clf, X_train, y_train, cv = 5)\n",
    "scores"
   ]
  },
  {
   "cell_type": "markdown",
   "metadata": {},
   "source": [
    "# Featurize parts of speech"
   ]
  },
  {
   "cell_type": "code",
   "execution_count": 54,
   "metadata": {},
   "outputs": [],
   "source": [
    "features = pos_df\n",
    "X_train, X_test, y_train, y_test = train_test_split(features, response, test_size = 0.3, random_state = 42)"
   ]
  },
  {
   "cell_type": "code",
   "execution_count": 55,
   "metadata": {},
   "outputs": [
    {
     "data": {
      "text/plain": [
       "array([0.6453681 , 0.64396196, 0.64129269, 0.64744155, 0.64600315])"
      ]
     },
     "execution_count": 55,
     "metadata": {},
     "output_type": "execute_result"
    }
   ],
   "source": [
    "clf = RandomForestClassifier(n_estimators = 100, n_jobs = 10)\n",
    "scores = cross_val_score(clf, X_train, y_train, cv = 5)\n",
    "scores"
   ]
  },
  {
   "cell_type": "code",
   "execution_count": 30,
   "metadata": {},
   "outputs": [
    {
     "data": {
      "text/html": [
       "<div>\n",
       "<style scoped>\n",
       "    .dataframe tbody tr th:only-of-type {\n",
       "        vertical-align: middle;\n",
       "    }\n",
       "\n",
       "    .dataframe tbody tr th {\n",
       "        vertical-align: top;\n",
       "    }\n",
       "\n",
       "    .dataframe thead th {\n",
       "        text-align: right;\n",
       "    }\n",
       "</style>\n",
       "<table border=\"1\" class=\"dataframe\">\n",
       "  <thead>\n",
       "    <tr style=\"text-align: right;\">\n",
       "      <th></th>\n",
       "      <th>PRON</th>\n",
       "      <th>VERB</th>\n",
       "      <th>ADV</th>\n",
       "      <th>PROPN</th>\n",
       "      <th>DET</th>\n",
       "      <th>NOUN</th>\n",
       "      <th>CCONJ</th>\n",
       "      <th>AUX</th>\n",
       "      <th>ADP</th>\n",
       "      <th>PUNCT</th>\n",
       "      <th>ADJ</th>\n",
       "      <th>X</th>\n",
       "      <th>PART</th>\n",
       "      <th>SCONJ</th>\n",
       "      <th>SPACE</th>\n",
       "      <th>NUM</th>\n",
       "      <th>INTJ</th>\n",
       "      <th>SYM</th>\n",
       "    </tr>\n",
       "  </thead>\n",
       "  <tbody>\n",
       "    <tr>\n",
       "      <th>0</th>\n",
       "      <td>5.0</td>\n",
       "      <td>11.0</td>\n",
       "      <td>5.0</td>\n",
       "      <td>2.0</td>\n",
       "      <td>6.0</td>\n",
       "      <td>11.0</td>\n",
       "      <td>1.0</td>\n",
       "      <td>3.0</td>\n",
       "      <td>6.0</td>\n",
       "      <td>6.0</td>\n",
       "      <td>4.0</td>\n",
       "      <td>1.0</td>\n",
       "      <td>0.0</td>\n",
       "      <td>0.0</td>\n",
       "      <td>0.0</td>\n",
       "      <td>0.0</td>\n",
       "      <td>0.0</td>\n",
       "      <td>0.0</td>\n",
       "    </tr>\n",
       "    <tr>\n",
       "      <th>1</th>\n",
       "      <td>14.0</td>\n",
       "      <td>11.0</td>\n",
       "      <td>4.0</td>\n",
       "      <td>2.0</td>\n",
       "      <td>6.0</td>\n",
       "      <td>3.0</td>\n",
       "      <td>1.0</td>\n",
       "      <td>5.0</td>\n",
       "      <td>0.0</td>\n",
       "      <td>7.0</td>\n",
       "      <td>2.0</td>\n",
       "      <td>0.0</td>\n",
       "      <td>3.0</td>\n",
       "      <td>2.0</td>\n",
       "      <td>2.0</td>\n",
       "      <td>0.0</td>\n",
       "      <td>0.0</td>\n",
       "      <td>0.0</td>\n",
       "    </tr>\n",
       "    <tr>\n",
       "      <th>2</th>\n",
       "      <td>5.0</td>\n",
       "      <td>3.0</td>\n",
       "      <td>2.0</td>\n",
       "      <td>1.0</td>\n",
       "      <td>7.0</td>\n",
       "      <td>11.0</td>\n",
       "      <td>3.0</td>\n",
       "      <td>3.0</td>\n",
       "      <td>8.0</td>\n",
       "      <td>8.0</td>\n",
       "      <td>3.0</td>\n",
       "      <td>0.0</td>\n",
       "      <td>0.0</td>\n",
       "      <td>1.0</td>\n",
       "      <td>3.0</td>\n",
       "      <td>1.0</td>\n",
       "      <td>0.0</td>\n",
       "      <td>0.0</td>\n",
       "    </tr>\n",
       "    <tr>\n",
       "      <th>3</th>\n",
       "      <td>2.0</td>\n",
       "      <td>11.0</td>\n",
       "      <td>2.0</td>\n",
       "      <td>3.0</td>\n",
       "      <td>8.0</td>\n",
       "      <td>11.0</td>\n",
       "      <td>4.0</td>\n",
       "      <td>4.0</td>\n",
       "      <td>7.0</td>\n",
       "      <td>8.0</td>\n",
       "      <td>1.0</td>\n",
       "      <td>1.0</td>\n",
       "      <td>2.0</td>\n",
       "      <td>0.0</td>\n",
       "      <td>0.0</td>\n",
       "      <td>0.0</td>\n",
       "      <td>1.0</td>\n",
       "      <td>0.0</td>\n",
       "    </tr>\n",
       "    <tr>\n",
       "      <th>4</th>\n",
       "      <td>4.0</td>\n",
       "      <td>4.0</td>\n",
       "      <td>3.0</td>\n",
       "      <td>4.0</td>\n",
       "      <td>0.0</td>\n",
       "      <td>2.0</td>\n",
       "      <td>0.0</td>\n",
       "      <td>1.0</td>\n",
       "      <td>2.0</td>\n",
       "      <td>4.0</td>\n",
       "      <td>0.0</td>\n",
       "      <td>0.0</td>\n",
       "      <td>0.0</td>\n",
       "      <td>0.0</td>\n",
       "      <td>1.0</td>\n",
       "      <td>1.0</td>\n",
       "      <td>0.0</td>\n",
       "      <td>0.0</td>\n",
       "    </tr>\n",
       "  </tbody>\n",
       "</table>\n",
       "</div>"
      ],
      "text/plain": [
       "   PRON  VERB  ADV  PROPN  DET  NOUN  CCONJ  AUX  ADP  PUNCT  ADJ    X  PART  \\\n",
       "0   5.0  11.0  5.0    2.0  6.0  11.0    1.0  3.0  6.0    6.0  4.0  1.0   0.0   \n",
       "1  14.0  11.0  4.0    2.0  6.0   3.0    1.0  5.0  0.0    7.0  2.0  0.0   3.0   \n",
       "2   5.0   3.0  2.0    1.0  7.0  11.0    3.0  3.0  8.0    8.0  3.0  0.0   0.0   \n",
       "3   2.0  11.0  2.0    3.0  8.0  11.0    4.0  4.0  7.0    8.0  1.0  1.0   2.0   \n",
       "4   4.0   4.0  3.0    4.0  0.0   2.0    0.0  1.0  2.0    4.0  0.0  0.0   0.0   \n",
       "\n",
       "   SCONJ  SPACE  NUM  INTJ  SYM  \n",
       "0    0.0    0.0  0.0   0.0  0.0  \n",
       "1    2.0    2.0  0.0   0.0  0.0  \n",
       "2    1.0    3.0  1.0   0.0  0.0  \n",
       "3    0.0    0.0  0.0   1.0  0.0  \n",
       "4    0.0    1.0  1.0   0.0  0.0  "
      ]
     },
     "execution_count": 30,
     "metadata": {},
     "output_type": "execute_result"
    }
   ],
   "source": [
    "features.head()"
   ]
  },
  {
   "cell_type": "code",
   "execution_count": 33,
   "metadata": {},
   "outputs": [
    {
     "data": {
      "text/plain": [
       "(309120, 18)"
      ]
     },
     "execution_count": 33,
     "metadata": {},
     "output_type": "execute_result"
    }
   ],
   "source": [
    "features.shape"
   ]
  },
  {
   "cell_type": "code",
   "execution_count": 32,
   "metadata": {},
   "outputs": [
    {
     "name": "stdout",
     "output_type": "stream",
     "text": [
      "The accuracy of the classifier on the test set is 0.650\n"
     ]
    }
   ],
   "source": [
    "clf.fit(X_train, y_train)\n",
    "accuracy = clf.score(X_test, y_test)\n",
    "print(\"The accuracy of the classifier on the test set is %.3f\" % accuracy)"
   ]
  },
  {
   "cell_type": "markdown",
   "metadata": {},
   "source": [
    "# Join parts of speech features to TFIDF"
   ]
  },
  {
   "cell_type": "code",
   "execution_count": 17,
   "metadata": {},
   "outputs": [],
   "source": [
    "from sklearn_pandas import DataFrameMapper"
   ]
  },
  {
   "cell_type": "code",
   "execution_count": 1,
   "metadata": {},
   "outputs": [
    {
     "ename": "NameError",
     "evalue": "name 'pos_df' is not defined",
     "output_type": "error",
     "traceback": [
      "\u001b[0;31m---------------------------------------------------------------------------\u001b[0m",
      "\u001b[0;31mNameError\u001b[0m                                 Traceback (most recent call last)",
      "\u001b[0;32m<ipython-input-1-9fd4b70952e5>\u001b[0m in \u001b[0;36m<module>\u001b[0;34m\u001b[0m\n\u001b[0;32m----> 1\u001b[0;31m \u001b[0mfeatures\u001b[0m \u001b[0;34m=\u001b[0m \u001b[0mpos_df\u001b[0m\u001b[0;34m\u001b[0m\u001b[0;34m\u001b[0m\u001b[0m\n\u001b[0m\u001b[1;32m      2\u001b[0m \u001b[0mfeatures\u001b[0m\u001b[0;34m[\u001b[0m\u001b[0;34m\"tweet_lemmas\"\u001b[0m\u001b[0;34m]\u001b[0m \u001b[0;34m=\u001b[0m \u001b[0mall_tweets\u001b[0m\u001b[0;34m[\u001b[0m\u001b[0;34m\"tweet_lemmas\"\u001b[0m\u001b[0;34m]\u001b[0m\u001b[0;34m\u001b[0m\u001b[0;34m\u001b[0m\u001b[0m\n",
      "\u001b[0;31mNameError\u001b[0m: name 'pos_df' is not defined"
     ]
    }
   ],
   "source": [
    "features = pos_df\n",
    "features[\"tweet_lemmas\"] = all_tweets[\"tweet_lemmas\"]"
   ]
  },
  {
   "cell_type": "code",
   "execution_count": 42,
   "metadata": {},
   "outputs": [],
   "source": [
    "mapper = DataFrameMapper([\n",
    "     ('tweet_lemmas', TfidfVectorizer(sublinear_tf=True, max_df=0.5, analyzer='word', max_features = 1500)),\n",
    "     ('PRON', None),\n",
    "     ('VERB', None),\n",
    "     ('ADV', None),\n",
    "     ('PROPN', None),\n",
    "     ('DET', None),\n",
    "     ('NOUN', None),\n",
    "     ('CCONJ', None),\n",
    "     ('AUX', None),\n",
    "     ('ADP', None),\n",
    "     ('PUNCT', None),\n",
    "     ('ADJ', None),\n",
    "     ('X', None),\n",
    "     ('PART', None),\n",
    "     ('SCONJ', None),\n",
    "     ('SPACE', None),\n",
    "     ('NUM', None),\n",
    "     ('INTJ', None),\n",
    "     ('SYM', None),\n",
    " ])\n",
    " "
   ]
  },
  {
   "cell_type": "code",
   "execution_count": null,
   "metadata": {},
   "outputs": [],
   "source": [
    "features = mapper.fit_transform(features)"
   ]
  },
  {
   "cell_type": "code",
   "execution_count": 37,
   "metadata": {},
   "outputs": [],
   "source": [
    "X_train, X_test, y_train, y_test = train_test_split(features, response, test_size = 0.3)"
   ]
  },
  {
   "cell_type": "code",
   "execution_count": 38,
   "metadata": {},
   "outputs": [
    {
     "data": {
      "text/plain": [
       "array([0.69806133, 0.703607  , 0.70145805, 0.69880075, 0.69937148])"
      ]
     },
     "execution_count": 38,
     "metadata": {},
     "output_type": "execute_result"
    }
   ],
   "source": [
    "clf = MultinomialNB()\n",
    "cross_val_score(clf, X_train, y_train, cv = 5)"
   ]
  },
  {
   "cell_type": "markdown",
   "metadata": {},
   "source": [
    "# Try joining using FeatureUnion"
   ]
  },
  {
   "cell_type": "code",
   "execution_count": 16,
   "metadata": {},
   "outputs": [],
   "source": [
    "vectorizer = TfidfVectorizer(max_features = 400, preprocessor = build_preprocessor('tweet_content'))\n",
    "pos_extractor = text_processing.PartsOfSpeechExtractor()"
   ]
  },
  {
   "cell_type": "code",
   "execution_count": null,
   "metadata": {},
   "outputs": [
    {
     "name": "stdout",
     "output_type": "stream",
     "text": [
      "INFO: Pandarallel will run on 12 workers.\n",
      "INFO: Pandarallel will use Memory file system to transfer data between the main process and workers.\n"
     ]
    }
   ],
   "source": [
    "from sklearn.pipeline import Pipeline, FeatureUnion\n",
    "\n",
    "\n",
    "X_train, X_test, y_train, y_test = train_test_split(features, response, test_size = 0.3)\n",
    "\n",
    "pipeline = Pipeline([\n",
    "    ('feats', FeatureUnion([\n",
    "        ('tfidf', vectorizer), # can pass in either a pipeline\n",
    "        ('pos', FeatureSelector(pos_df.columns)) # or a transformer\n",
    "    ])),\n",
    "    ('clf', MultinomialNB())  # classifier\n",
    "])\n",
    "\n",
    "cross_val_score(pipeline, X_train, y_train, cv = 5)"
   ]
  }
 ],
 "metadata": {
  "kernelspec": {
   "display_name": "Python 3 (ipykernel)",
   "language": "python",
   "name": "python3"
  },
  "language_info": {
   "codemirror_mode": {
    "name": "ipython",
    "version": 3
   },
   "file_extension": ".py",
   "mimetype": "text/x-python",
   "name": "python",
   "nbconvert_exporter": "python",
   "pygments_lexer": "ipython3",
   "version": "3.8.5"
  }
 },
 "nbformat": 4,
 "nbformat_minor": 4
}
