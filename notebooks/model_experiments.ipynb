{
 "cells": [
  {
   "cell_type": "code",
   "execution_count": 38,
   "metadata": {},
   "outputs": [],
   "source": [
    "from sklearn.model_selection import train_test_split\n",
    "from sklearn.naive_bayes import MultinomialNB\n",
    "from sklearn.feature_extraction.text import CountVectorizer\n",
    "from sklearn.feature_extraction.text import TfidfVectorizer\n",
    "import pandas as pd\n",
    "from pandarallel import pandarallel\n",
    "from sklearn.model_selection import cross_val_score\n",
    "import sys\n",
    "sys.path.insert(1, '/home/aw/projects/congress_twitter/scripts')\n",
    "import text_processing\n",
    "import spacy"
   ]
  },
  {
   "cell_type": "markdown",
   "metadata": {},
   "source": [
    "# Input data"
   ]
  },
  {
   "cell_type": "markdown",
   "metadata": {},
   "source": [
    "## Twitter handles"
   ]
  },
  {
   "cell_type": "code",
   "execution_count": 14,
   "metadata": {},
   "outputs": [
    {
     "data": {
      "text/html": [
       "<div>\n",
       "<style scoped>\n",
       "    .dataframe tbody tr th:only-of-type {\n",
       "        vertical-align: middle;\n",
       "    }\n",
       "\n",
       "    .dataframe tbody tr th {\n",
       "        vertical-align: top;\n",
       "    }\n",
       "\n",
       "    .dataframe thead th {\n",
       "        text-align: right;\n",
       "    }\n",
       "</style>\n",
       "<table border=\"1\" class=\"dataframe\">\n",
       "  <thead>\n",
       "    <tr style=\"text-align: right;\">\n",
       "      <th></th>\n",
       "      <th>State</th>\n",
       "      <th>Chamber of Congress</th>\n",
       "      <th>Name</th>\n",
       "      <th>Name Links</th>\n",
       "      <th>Party</th>\n",
       "      <th>Twitter</th>\n",
       "      <th>Twitter Links</th>\n",
       "      <th>Instagram</th>\n",
       "      <th>Facebook Page</th>\n",
       "      <th>Facebook</th>\n",
       "    </tr>\n",
       "  </thead>\n",
       "  <tbody>\n",
       "    <tr>\n",
       "      <th>0</th>\n",
       "      <td>Alabama</td>\n",
       "      <td>Senator</td>\n",
       "      <td>Richard Shelby</td>\n",
       "      <td>https://www.shelby.senate.gov/public/</td>\n",
       "      <td>R</td>\n",
       "      <td>@SenShelby</td>\n",
       "      <td>https://twitter.com/SenShelby?ref_src=twsrc%5E...</td>\n",
       "      <td>@senatorshelby</td>\n",
       "      <td>x</td>\n",
       "      <td>https://www.facebook.com/RichardShelby</td>\n",
       "    </tr>\n",
       "    <tr>\n",
       "      <th>1</th>\n",
       "      <td>Alabama</td>\n",
       "      <td>Senator</td>\n",
       "      <td>Doug Jones</td>\n",
       "      <td>https://www.jones.senate.gov/</td>\n",
       "      <td>D</td>\n",
       "      <td>@DougJones</td>\n",
       "      <td>https://twitter.com/DougJones?ref_src=twsrc%5E...</td>\n",
       "      <td>@dougjonesbama</td>\n",
       "      <td>x</td>\n",
       "      <td>https://www.facebook.com/senatordougjones/</td>\n",
       "    </tr>\n",
       "    <tr>\n",
       "      <th>2</th>\n",
       "      <td>Alabama 1st District</td>\n",
       "      <td>Representative</td>\n",
       "      <td>Byrne, Bradley</td>\n",
       "      <td>https://byrne.house.gov/</td>\n",
       "      <td>R</td>\n",
       "      <td>@RepByrne</td>\n",
       "      <td>https://twitter.com/RepByrne</td>\n",
       "      <td>@repbyrne</td>\n",
       "      <td>x</td>\n",
       "      <td>https://www.facebook.com/RepByrne</td>\n",
       "    </tr>\n",
       "    <tr>\n",
       "      <th>3</th>\n",
       "      <td>Alabama 2nd District</td>\n",
       "      <td>U.S. Representative</td>\n",
       "      <td>Roby, Martha</td>\n",
       "      <td>https://roby.house.gov/</td>\n",
       "      <td>R</td>\n",
       "      <td>@RepMarthaRoby</td>\n",
       "      <td>https://twitter.com/RepMarthaRoby</td>\n",
       "      <td>@martharoby</td>\n",
       "      <td>x</td>\n",
       "      <td>https://www.facebook.com/Representative.Martha...</td>\n",
       "    </tr>\n",
       "    <tr>\n",
       "      <th>4</th>\n",
       "      <td>Alabama 3rd District</td>\n",
       "      <td>U.S. Representative</td>\n",
       "      <td>Rogers, Mike</td>\n",
       "      <td>http://mikerogers.house.gov/</td>\n",
       "      <td>R</td>\n",
       "      <td>@RepMikeRogersAL</td>\n",
       "      <td>https://twitter.com/RepMikeRogersAL</td>\n",
       "      <td>@repmikerogersal</td>\n",
       "      <td>x</td>\n",
       "      <td>https://www.facebook.com/pages/Mike-Rogers/640...</td>\n",
       "    </tr>\n",
       "  </tbody>\n",
       "</table>\n",
       "</div>"
      ],
      "text/plain": [
       "                  State  Chamber of Congress            Name  \\\n",
       "0               Alabama              Senator  Richard Shelby   \n",
       "1               Alabama              Senator      Doug Jones   \n",
       "2  Alabama 1st District       Representative  Byrne, Bradley   \n",
       "3  Alabama 2nd District  U.S. Representative    Roby, Martha   \n",
       "4  Alabama 3rd District  U.S. Representative    Rogers, Mike   \n",
       "\n",
       "                              Name Links Party           Twitter  \\\n",
       "0  https://www.shelby.senate.gov/public/     R        @SenShelby   \n",
       "1          https://www.jones.senate.gov/     D        @DougJones   \n",
       "2               https://byrne.house.gov/     R         @RepByrne   \n",
       "3                https://roby.house.gov/     R    @RepMarthaRoby   \n",
       "4           http://mikerogers.house.gov/     R  @RepMikeRogersAL   \n",
       "\n",
       "                                       Twitter Links         Instagram  \\\n",
       "0  https://twitter.com/SenShelby?ref_src=twsrc%5E...    @senatorshelby   \n",
       "1  https://twitter.com/DougJones?ref_src=twsrc%5E...    @dougjonesbama   \n",
       "2                       https://twitter.com/RepByrne         @repbyrne   \n",
       "3                  https://twitter.com/RepMarthaRoby       @martharoby   \n",
       "4                https://twitter.com/RepMikeRogersAL  @repmikerogersal   \n",
       "\n",
       "  Facebook Page                                           Facebook  \n",
       "0             x            https://www.facebook.com/RichardShelby   \n",
       "1             x         https://www.facebook.com/senatordougjones/  \n",
       "2             x                  https://www.facebook.com/RepByrne  \n",
       "3             x  https://www.facebook.com/Representative.Martha...  \n",
       "4             x  https://www.facebook.com/pages/Mike-Rogers/640...  "
      ]
     },
     "execution_count": 14,
     "metadata": {},
     "output_type": "execute_result"
    }
   ],
   "source": [
    "twitter_handles = pd.read_csv(\"../data/congress_twitter_handles.csv\").drop(\"Unnamed: 0\", axis = \"columns\")\n",
    "twitter_handles.head()"
   ]
  },
  {
   "cell_type": "markdown",
   "metadata": {},
   "source": [
    "## All tweets"
   ]
  },
  {
   "cell_type": "code",
   "execution_count": 4,
   "metadata": {},
   "outputs": [
    {
     "data": {
      "text/html": [
       "<div>\n",
       "<style scoped>\n",
       "    .dataframe tbody tr th:only-of-type {\n",
       "        vertical-align: middle;\n",
       "    }\n",
       "\n",
       "    .dataframe tbody tr th {\n",
       "        vertical-align: top;\n",
       "    }\n",
       "\n",
       "    .dataframe thead th {\n",
       "        text-align: right;\n",
       "    }\n",
       "</style>\n",
       "<table border=\"1\" class=\"dataframe\">\n",
       "  <thead>\n",
       "    <tr style=\"text-align: right;\">\n",
       "      <th></th>\n",
       "      <th>username</th>\n",
       "      <th>date</th>\n",
       "      <th>tweet_content</th>\n",
       "      <th>party</th>\n",
       "    </tr>\n",
       "  </thead>\n",
       "  <tbody>\n",
       "    <tr>\n",
       "      <th>0</th>\n",
       "      <td>DougJones</td>\n",
       "      <td>2020-11-08 13:17:22+00:00</td>\n",
       "      <td>I’ve often heard Joe recite this poem and I am...</td>\n",
       "      <td>D</td>\n",
       "    </tr>\n",
       "    <tr>\n",
       "      <th>1</th>\n",
       "      <td>DougJones</td>\n",
       "      <td>2020-11-08 02:08:39+00:00</td>\n",
       "      <td>Everyone, this is such a powerful moment. I ca...</td>\n",
       "      <td>D</td>\n",
       "    </tr>\n",
       "    <tr>\n",
       "      <th>2</th>\n",
       "      <td>DougJones</td>\n",
       "      <td>2020-11-07 22:23:31+00:00</td>\n",
       "      <td>Congratulations to my friend of over 40 years,...</td>\n",
       "      <td>D</td>\n",
       "    </tr>\n",
       "    <tr>\n",
       "      <th>3</th>\n",
       "      <td>DougJones</td>\n",
       "      <td>2020-11-06 22:28:42+00:00</td>\n",
       "      <td>Well folks, Tuesday didn’t turn out the way we...</td>\n",
       "      <td>D</td>\n",
       "    </tr>\n",
       "    <tr>\n",
       "      <th>4</th>\n",
       "      <td>DougJones</td>\n",
       "      <td>2020-11-03 16:21:59+00:00</td>\n",
       "      <td>It’s Re-Election Day folks!  Thank you being t...</td>\n",
       "      <td>D</td>\n",
       "    </tr>\n",
       "  </tbody>\n",
       "</table>\n",
       "</div>"
      ],
      "text/plain": [
       "    username                       date  \\\n",
       "0  DougJones  2020-11-08 13:17:22+00:00   \n",
       "1  DougJones  2020-11-08 02:08:39+00:00   \n",
       "2  DougJones  2020-11-07 22:23:31+00:00   \n",
       "3  DougJones  2020-11-06 22:28:42+00:00   \n",
       "4  DougJones  2020-11-03 16:21:59+00:00   \n",
       "\n",
       "                                       tweet_content party  \n",
       "0  I’ve often heard Joe recite this poem and I am...     D  \n",
       "1  Everyone, this is such a powerful moment. I ca...     D  \n",
       "2  Congratulations to my friend of over 40 years,...     D  \n",
       "3  Well folks, Tuesday didn’t turn out the way we...     D  \n",
       "4  It’s Re-Election Day folks!  Thank you being t...     D  "
      ]
     },
     "execution_count": 4,
     "metadata": {},
     "output_type": "execute_result"
    }
   ],
   "source": [
    "all_tweets = pd.read_csv(\"../output/all_tweets.csv\")\n",
    "all_tweets = all_tweets[[\"username\", \"date\", \"tweet_content\", \"party\"]]\n",
    "all_tweets.head()"
   ]
  },
  {
   "cell_type": "markdown",
   "metadata": {},
   "source": [
    "# Naive Bayes BOW"
   ]
  },
  {
   "cell_type": "code",
   "execution_count": 17,
   "metadata": {},
   "outputs": [],
   "source": [
    "features = all_tweets[\"tweet_content\"]\n",
    "response = pd.get_dummies(all_tweets[\"party\"])[\"D\"]"
   ]
  },
  {
   "cell_type": "code",
   "execution_count": 20,
   "metadata": {},
   "outputs": [],
   "source": [
    "X_train, X_test, y_train, y_test = train_test_split(features, response, test_size=0.3, random_state = 42)\n",
    "vectorizer = CountVectorizer()\n",
    "X_train = vectorizer.fit_transform(X_train)\n",
    "X_test = vectorizer.transform(X_test)"
   ]
  },
  {
   "cell_type": "code",
   "execution_count": 21,
   "metadata": {},
   "outputs": [],
   "source": [
    "clf = MultinomialNB()\n",
    "scores = cross_val_score(clf, X_train, y_train, cv=5)"
   ]
  },
  {
   "cell_type": "code",
   "execution_count": 23,
   "metadata": {},
   "outputs": [
    {
     "data": {
      "text/plain": [
       "array([0.82947062, 0.83021004, 0.82900848, 0.8274141 , 0.82787226])"
      ]
     },
     "execution_count": 23,
     "metadata": {},
     "output_type": "execute_result"
    }
   ],
   "source": [
    "scores"
   ]
  },
  {
   "cell_type": "code",
   "execution_count": 24,
   "metadata": {},
   "outputs": [
    {
     "data": {
      "text/plain": [
       "MultinomialNB()"
      ]
     },
     "execution_count": 24,
     "metadata": {},
     "output_type": "execute_result"
    }
   ],
   "source": [
    "clf.fit(X_train, y_train)"
   ]
  },
  {
   "cell_type": "code",
   "execution_count": 25,
   "metadata": {},
   "outputs": [
    {
     "name": "stdout",
     "output_type": "stream",
     "text": [
      "The accuracy of the classifier on the test set is 0.833\n"
     ]
    }
   ],
   "source": [
    "accuracy = clf.score(X_test, y_test)\n",
    "print(\"The accuracy of the classifier on the test set is %.3f\" % accuracy)"
   ]
  },
  {
   "cell_type": "markdown",
   "metadata": {},
   "source": [
    "# Naive Bayes BOW lemmas"
   ]
  },
  {
   "cell_type": "code",
   "execution_count": 55,
   "metadata": {},
   "outputs": [],
   "source": [
    "nlp = spacy.load('en_core_web_lg')\n",
    "\n",
    "stopwords = nlp.Defaults.stop_words"
   ]
  },
  {
   "cell_type": "code",
   "execution_count": null,
   "metadata": {},
   "outputs": [],
   "source": [
    "pandarallel.initialize()\n",
    "\n",
    "all_tweets[\"tweet_lemmas\"] = all_tweets[\"tweet_content\"].parallel_apply(text_processing.preprocess)"
   ]
  },
  {
   "cell_type": "code",
   "execution_count": 56,
   "metadata": {},
   "outputs": [],
   "source": [
    "features = all_tweets[\"tweet_lemmas\"]\n",
    "response = pd.get_dummies(all_tweets[\"party\"])[\"D\"]"
   ]
  },
  {
   "cell_type": "code",
   "execution_count": 63,
   "metadata": {},
   "outputs": [],
   "source": [
    "X_train, X_test, y_train, y_test = train_test_split(features, response, test_size=0.3, random_state = 42)\n",
    "vectorizer = CountVectorizer()\n",
    "X_train = vectorizer.fit_transform(X_train)\n",
    "X_test = vectorizer.transform(X_test)"
   ]
  },
  {
   "cell_type": "code",
   "execution_count": 64,
   "metadata": {},
   "outputs": [],
   "source": [
    "clf = MultinomialNB()\n",
    "scores = cross_val_score(clf, X_train, y_train, cv=5)"
   ]
  },
  {
   "cell_type": "code",
   "execution_count": 65,
   "metadata": {},
   "outputs": [
    {
     "data": {
      "text/plain": [
       "array([0.79991681, 0.80017099, 0.7992005 , 0.79938535, 0.79785562])"
      ]
     },
     "execution_count": 65,
     "metadata": {},
     "output_type": "execute_result"
    }
   ],
   "source": [
    "scores"
   ]
  },
  {
   "cell_type": "code",
   "execution_count": 44,
   "metadata": {},
   "outputs": [
    {
     "data": {
      "text/plain": [
       "MultinomialNB()"
      ]
     },
     "execution_count": 44,
     "metadata": {},
     "output_type": "execute_result"
    }
   ],
   "source": [
    "clf.fit(X_train, y_train)"
   ]
  },
  {
   "cell_type": "code",
   "execution_count": 45,
   "metadata": {},
   "outputs": [
    {
     "name": "stdout",
     "output_type": "stream",
     "text": [
      "The accuracy of the classifier on the test set is 0.803\n"
     ]
    }
   ],
   "source": [
    "accuracy = clf.score(X_test, y_test)\n",
    "print(\"The accuracy of the classifier on the test set is %.3f\" % accuracy)"
   ]
  },
  {
   "cell_type": "markdown",
   "metadata": {},
   "source": [
    "# Random Forest BOW lemmas (max 400)"
   ]
  },
  {
   "cell_type": "code",
   "execution_count": 49,
   "metadata": {},
   "outputs": [],
   "source": [
    "from sklearn.ensemble import RandomForestClassifier"
   ]
  },
  {
   "cell_type": "code",
   "execution_count": 52,
   "metadata": {},
   "outputs": [],
   "source": [
    "X_train, X_test, y_train, y_test = train_test_split(features, response, test_size=0.3, random_state = 42)\n",
    "vectorizer = CountVectorizer(max_features=400)\n",
    "X_train = vectorizer.fit_transform(X_train)\n",
    "X_test = vectorizer.transform(X_test)"
   ]
  },
  {
   "cell_type": "code",
   "execution_count": 54,
   "metadata": {},
   "outputs": [
    {
     "data": {
      "text/plain": [
       "array([0.72139936, 0.72396423, 0.71934284, 0.72310927, 0.72259451])"
      ]
     },
     "execution_count": 54,
     "metadata": {},
     "output_type": "execute_result"
    }
   ],
   "source": [
    "clf = RandomForestClassifier(n_estimators=50, n_jobs = 10)\n",
    "scores = cross_val_score(clf, X_train, y_train, cv = 5)\n",
    "scores"
   ]
  },
  {
   "cell_type": "code",
   "execution_count": null,
   "metadata": {},
   "outputs": [],
   "source": []
  }
 ],
 "metadata": {
  "kernelspec": {
   "display_name": "Python 3",
   "language": "python",
   "name": "python3"
  },
  "language_info": {
   "codemirror_mode": {
    "name": "ipython",
    "version": 3
   },
   "file_extension": ".py",
   "mimetype": "text/x-python",
   "name": "python",
   "nbconvert_exporter": "python",
   "pygments_lexer": "ipython3",
   "version": "3.8.5"
  }
 },
 "nbformat": 4,
 "nbformat_minor": 4
}
