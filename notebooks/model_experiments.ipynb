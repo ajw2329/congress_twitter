{
 "cells": [
  {
   "cell_type": "code",
   "execution_count": 1,
   "metadata": {},
   "outputs": [],
   "source": [
    "from sklearn.model_selection import train_test_split\n",
    "from sklearn.naive_bayes import MultinomialNB\n",
    "from sklearn.feature_extraction.text import CountVectorizer\n",
    "from sklearn.feature_extraction.text import TfidfVectorizer\n",
    "import pandas as pd\n",
    "from pandarallel import pandarallel\n",
    "from sklearn.model_selection import cross_val_score\n",
    "import sys\n",
    "sys.path.insert(1, '/home/aw/projects/congress_twitter/scripts')\n",
    "import text_processing\n",
    "import spacy"
   ]
  },
  {
   "cell_type": "markdown",
   "metadata": {},
   "source": [
    "# Input data"
   ]
  },
  {
   "cell_type": "markdown",
   "metadata": {},
   "source": [
    "## Twitter handles"
   ]
  },
  {
   "cell_type": "code",
   "execution_count": 2,
   "metadata": {},
   "outputs": [
    {
     "data": {
      "text/html": [
       "<div>\n",
       "<style scoped>\n",
       "    .dataframe tbody tr th:only-of-type {\n",
       "        vertical-align: middle;\n",
       "    }\n",
       "\n",
       "    .dataframe tbody tr th {\n",
       "        vertical-align: top;\n",
       "    }\n",
       "\n",
       "    .dataframe thead th {\n",
       "        text-align: right;\n",
       "    }\n",
       "</style>\n",
       "<table border=\"1\" class=\"dataframe\">\n",
       "  <thead>\n",
       "    <tr style=\"text-align: right;\">\n",
       "      <th></th>\n",
       "      <th>State</th>\n",
       "      <th>Chamber of Congress</th>\n",
       "      <th>Name</th>\n",
       "      <th>Name Links</th>\n",
       "      <th>Party</th>\n",
       "      <th>Twitter</th>\n",
       "      <th>Twitter Links</th>\n",
       "      <th>Instagram</th>\n",
       "      <th>Facebook Page</th>\n",
       "      <th>Facebook</th>\n",
       "    </tr>\n",
       "  </thead>\n",
       "  <tbody>\n",
       "    <tr>\n",
       "      <th>0</th>\n",
       "      <td>Alabama</td>\n",
       "      <td>Senator</td>\n",
       "      <td>Richard Shelby</td>\n",
       "      <td>https://www.shelby.senate.gov/public/</td>\n",
       "      <td>R</td>\n",
       "      <td>@SenShelby</td>\n",
       "      <td>https://twitter.com/SenShelby?ref_src=twsrc%5E...</td>\n",
       "      <td>@senatorshelby</td>\n",
       "      <td>x</td>\n",
       "      <td>https://www.facebook.com/RichardShelby</td>\n",
       "    </tr>\n",
       "    <tr>\n",
       "      <th>1</th>\n",
       "      <td>Alabama</td>\n",
       "      <td>Senator</td>\n",
       "      <td>Doug Jones</td>\n",
       "      <td>https://www.jones.senate.gov/</td>\n",
       "      <td>D</td>\n",
       "      <td>@DougJones</td>\n",
       "      <td>https://twitter.com/DougJones?ref_src=twsrc%5E...</td>\n",
       "      <td>@dougjonesbama</td>\n",
       "      <td>x</td>\n",
       "      <td>https://www.facebook.com/senatordougjones/</td>\n",
       "    </tr>\n",
       "    <tr>\n",
       "      <th>2</th>\n",
       "      <td>Alabama 1st District</td>\n",
       "      <td>Representative</td>\n",
       "      <td>Byrne, Bradley</td>\n",
       "      <td>https://byrne.house.gov/</td>\n",
       "      <td>R</td>\n",
       "      <td>@RepByrne</td>\n",
       "      <td>https://twitter.com/RepByrne</td>\n",
       "      <td>@repbyrne</td>\n",
       "      <td>x</td>\n",
       "      <td>https://www.facebook.com/RepByrne</td>\n",
       "    </tr>\n",
       "    <tr>\n",
       "      <th>3</th>\n",
       "      <td>Alabama 2nd District</td>\n",
       "      <td>U.S. Representative</td>\n",
       "      <td>Roby, Martha</td>\n",
       "      <td>https://roby.house.gov/</td>\n",
       "      <td>R</td>\n",
       "      <td>@RepMarthaRoby</td>\n",
       "      <td>https://twitter.com/RepMarthaRoby</td>\n",
       "      <td>@martharoby</td>\n",
       "      <td>x</td>\n",
       "      <td>https://www.facebook.com/Representative.Martha...</td>\n",
       "    </tr>\n",
       "    <tr>\n",
       "      <th>4</th>\n",
       "      <td>Alabama 3rd District</td>\n",
       "      <td>U.S. Representative</td>\n",
       "      <td>Rogers, Mike</td>\n",
       "      <td>http://mikerogers.house.gov/</td>\n",
       "      <td>R</td>\n",
       "      <td>@RepMikeRogersAL</td>\n",
       "      <td>https://twitter.com/RepMikeRogersAL</td>\n",
       "      <td>@repmikerogersal</td>\n",
       "      <td>x</td>\n",
       "      <td>https://www.facebook.com/pages/Mike-Rogers/640...</td>\n",
       "    </tr>\n",
       "  </tbody>\n",
       "</table>\n",
       "</div>"
      ],
      "text/plain": [
       "                  State  Chamber of Congress            Name  \\\n",
       "0               Alabama              Senator  Richard Shelby   \n",
       "1               Alabama              Senator      Doug Jones   \n",
       "2  Alabama 1st District       Representative  Byrne, Bradley   \n",
       "3  Alabama 2nd District  U.S. Representative    Roby, Martha   \n",
       "4  Alabama 3rd District  U.S. Representative    Rogers, Mike   \n",
       "\n",
       "                              Name Links Party           Twitter  \\\n",
       "0  https://www.shelby.senate.gov/public/     R        @SenShelby   \n",
       "1          https://www.jones.senate.gov/     D        @DougJones   \n",
       "2               https://byrne.house.gov/     R         @RepByrne   \n",
       "3                https://roby.house.gov/     R    @RepMarthaRoby   \n",
       "4           http://mikerogers.house.gov/     R  @RepMikeRogersAL   \n",
       "\n",
       "                                       Twitter Links         Instagram  \\\n",
       "0  https://twitter.com/SenShelby?ref_src=twsrc%5E...    @senatorshelby   \n",
       "1  https://twitter.com/DougJones?ref_src=twsrc%5E...    @dougjonesbama   \n",
       "2                       https://twitter.com/RepByrne         @repbyrne   \n",
       "3                  https://twitter.com/RepMarthaRoby       @martharoby   \n",
       "4                https://twitter.com/RepMikeRogersAL  @repmikerogersal   \n",
       "\n",
       "  Facebook Page                                           Facebook  \n",
       "0             x            https://www.facebook.com/RichardShelby   \n",
       "1             x         https://www.facebook.com/senatordougjones/  \n",
       "2             x                  https://www.facebook.com/RepByrne  \n",
       "3             x  https://www.facebook.com/Representative.Martha...  \n",
       "4             x  https://www.facebook.com/pages/Mike-Rogers/640...  "
      ]
     },
     "execution_count": 2,
     "metadata": {},
     "output_type": "execute_result"
    }
   ],
   "source": [
    "twitter_handles = pd.read_csv(\"../data/congress_twitter_handles.csv\").drop(\"Unnamed: 0\", axis = \"columns\")\n",
    "twitter_handles.head()"
   ]
  },
  {
   "cell_type": "markdown",
   "metadata": {},
   "source": [
    "## All tweets"
   ]
  },
  {
   "cell_type": "code",
   "execution_count": 3,
   "metadata": {},
   "outputs": [
    {
     "data": {
      "text/html": [
       "<div>\n",
       "<style scoped>\n",
       "    .dataframe tbody tr th:only-of-type {\n",
       "        vertical-align: middle;\n",
       "    }\n",
       "\n",
       "    .dataframe tbody tr th {\n",
       "        vertical-align: top;\n",
       "    }\n",
       "\n",
       "    .dataframe thead th {\n",
       "        text-align: right;\n",
       "    }\n",
       "</style>\n",
       "<table border=\"1\" class=\"dataframe\">\n",
       "  <thead>\n",
       "    <tr style=\"text-align: right;\">\n",
       "      <th></th>\n",
       "      <th>username</th>\n",
       "      <th>date</th>\n",
       "      <th>tweet_content</th>\n",
       "      <th>party</th>\n",
       "    </tr>\n",
       "  </thead>\n",
       "  <tbody>\n",
       "    <tr>\n",
       "      <th>0</th>\n",
       "      <td>DougJones</td>\n",
       "      <td>2020-11-08 13:17:22+00:00</td>\n",
       "      <td>I’ve often heard Joe recite this poem and I am...</td>\n",
       "      <td>D</td>\n",
       "    </tr>\n",
       "    <tr>\n",
       "      <th>1</th>\n",
       "      <td>DougJones</td>\n",
       "      <td>2020-11-08 02:08:39+00:00</td>\n",
       "      <td>Everyone, this is such a powerful moment. I ca...</td>\n",
       "      <td>D</td>\n",
       "    </tr>\n",
       "    <tr>\n",
       "      <th>2</th>\n",
       "      <td>DougJones</td>\n",
       "      <td>2020-11-07 22:23:31+00:00</td>\n",
       "      <td>Congratulations to my friend of over 40 years,...</td>\n",
       "      <td>D</td>\n",
       "    </tr>\n",
       "    <tr>\n",
       "      <th>3</th>\n",
       "      <td>DougJones</td>\n",
       "      <td>2020-11-06 22:28:42+00:00</td>\n",
       "      <td>Well folks, Tuesday didn’t turn out the way we...</td>\n",
       "      <td>D</td>\n",
       "    </tr>\n",
       "    <tr>\n",
       "      <th>4</th>\n",
       "      <td>DougJones</td>\n",
       "      <td>2020-11-03 16:21:59+00:00</td>\n",
       "      <td>It’s Re-Election Day folks!  Thank you being t...</td>\n",
       "      <td>D</td>\n",
       "    </tr>\n",
       "  </tbody>\n",
       "</table>\n",
       "</div>"
      ],
      "text/plain": [
       "    username                       date  \\\n",
       "0  DougJones  2020-11-08 13:17:22+00:00   \n",
       "1  DougJones  2020-11-08 02:08:39+00:00   \n",
       "2  DougJones  2020-11-07 22:23:31+00:00   \n",
       "3  DougJones  2020-11-06 22:28:42+00:00   \n",
       "4  DougJones  2020-11-03 16:21:59+00:00   \n",
       "\n",
       "                                       tweet_content party  \n",
       "0  I’ve often heard Joe recite this poem and I am...     D  \n",
       "1  Everyone, this is such a powerful moment. I ca...     D  \n",
       "2  Congratulations to my friend of over 40 years,...     D  \n",
       "3  Well folks, Tuesday didn’t turn out the way we...     D  \n",
       "4  It’s Re-Election Day folks!  Thank you being t...     D  "
      ]
     },
     "execution_count": 3,
     "metadata": {},
     "output_type": "execute_result"
    }
   ],
   "source": [
    "all_tweets = pd.read_csv(\"../output/all_tweets.csv\")\n",
    "all_tweets = all_tweets[[\"username\", \"date\", \"tweet_content\", \"party\"]]\n",
    "all_tweets.head()"
   ]
  },
  {
   "cell_type": "markdown",
   "metadata": {},
   "source": [
    "# Naive Bayes BOW"
   ]
  },
  {
   "cell_type": "code",
   "execution_count": 4,
   "metadata": {},
   "outputs": [],
   "source": [
    "features = all_tweets[\"tweet_content\"]\n",
    "response = pd.get_dummies(all_tweets[\"party\"])[\"D\"]"
   ]
  },
  {
   "cell_type": "code",
   "execution_count": 5,
   "metadata": {},
   "outputs": [],
   "source": [
    "X_train, X_test, y_train, y_test = train_test_split(features, response, test_size=0.3, random_state = 42)\n",
    "vectorizer = CountVectorizer()\n",
    "X_train = vectorizer.fit_transform(X_train)\n",
    "X_test = vectorizer.transform(X_test)"
   ]
  },
  {
   "cell_type": "code",
   "execution_count": 6,
   "metadata": {},
   "outputs": [],
   "source": [
    "clf = MultinomialNB()\n",
    "scores = cross_val_score(clf, X_train, y_train, cv=5)"
   ]
  },
  {
   "cell_type": "code",
   "execution_count": 7,
   "metadata": {},
   "outputs": [
    {
     "data": {
      "text/plain": [
       "array([0.82947062, 0.83021004, 0.82900848, 0.8274141 , 0.82787226])"
      ]
     },
     "execution_count": 7,
     "metadata": {},
     "output_type": "execute_result"
    }
   ],
   "source": [
    "scores"
   ]
  },
  {
   "cell_type": "code",
   "execution_count": 8,
   "metadata": {},
   "outputs": [
    {
     "data": {
      "text/plain": [
       "MultinomialNB()"
      ]
     },
     "execution_count": 8,
     "metadata": {},
     "output_type": "execute_result"
    }
   ],
   "source": [
    "clf.fit(X_train, y_train)"
   ]
  },
  {
   "cell_type": "code",
   "execution_count": 9,
   "metadata": {},
   "outputs": [
    {
     "name": "stdout",
     "output_type": "stream",
     "text": [
      "The accuracy of the classifier on the test set is 0.833\n"
     ]
    }
   ],
   "source": [
    "accuracy = clf.score(X_test, y_test)\n",
    "print(\"The accuracy of the classifier on the test set is %.3f\" % accuracy)"
   ]
  },
  {
   "cell_type": "markdown",
   "metadata": {},
   "source": [
    "# Naive Bayes BOW lemmas"
   ]
  },
  {
   "cell_type": "code",
   "execution_count": 10,
   "metadata": {},
   "outputs": [],
   "source": [
    "nlp = spacy.load('en_core_web_lg')\n",
    "\n",
    "stopwords = nlp.Defaults.stop_words"
   ]
  },
  {
   "cell_type": "code",
   "execution_count": 11,
   "metadata": {},
   "outputs": [
    {
     "name": "stdout",
     "output_type": "stream",
     "text": [
      "INFO: Pandarallel will run on 12 workers.\n",
      "INFO: Pandarallel will use Memory file system to transfer data between the main process and workers.\n"
     ]
    }
   ],
   "source": [
    "pandarallel.initialize()\n",
    "\n",
    "all_tweets[\"tweet_lemmas\"] = all_tweets[\"tweet_content\"].parallel_apply(text_processing.preprocess)"
   ]
  },
  {
   "cell_type": "code",
   "execution_count": 12,
   "metadata": {},
   "outputs": [],
   "source": [
    "features = all_tweets[\"tweet_lemmas\"]\n",
    "response = pd.get_dummies(all_tweets[\"party\"])[\"D\"]"
   ]
  },
  {
   "cell_type": "code",
   "execution_count": 13,
   "metadata": {},
   "outputs": [],
   "source": [
    "X_train, X_test, y_train, y_test = train_test_split(features, response, test_size=0.3, random_state = 42)\n",
    "vectorizer = CountVectorizer()\n",
    "X_train = vectorizer.fit_transform(X_train)\n",
    "X_test = vectorizer.transform(X_test)"
   ]
  },
  {
   "cell_type": "code",
   "execution_count": 14,
   "metadata": {},
   "outputs": [],
   "source": [
    "clf = MultinomialNB()\n",
    "scores = cross_val_score(clf, X_train, y_train, cv=5)"
   ]
  },
  {
   "cell_type": "code",
   "execution_count": 15,
   "metadata": {},
   "outputs": [
    {
     "data": {
      "text/plain": [
       "array([0.79991681, 0.80017099, 0.7992005 , 0.79938535, 0.79785562])"
      ]
     },
     "execution_count": 15,
     "metadata": {},
     "output_type": "execute_result"
    }
   ],
   "source": [
    "scores"
   ]
  },
  {
   "cell_type": "code",
   "execution_count": 16,
   "metadata": {},
   "outputs": [
    {
     "data": {
      "text/plain": [
       "MultinomialNB()"
      ]
     },
     "execution_count": 16,
     "metadata": {},
     "output_type": "execute_result"
    }
   ],
   "source": [
    "clf.fit(X_train, y_train)"
   ]
  },
  {
   "cell_type": "code",
   "execution_count": 17,
   "metadata": {},
   "outputs": [
    {
     "name": "stdout",
     "output_type": "stream",
     "text": [
      "The accuracy of the classifier on the test set is 0.803\n"
     ]
    }
   ],
   "source": [
    "accuracy = clf.score(X_test, y_test)\n",
    "print(\"The accuracy of the classifier on the test set is %.3f\" % accuracy)"
   ]
  },
  {
   "cell_type": "markdown",
   "metadata": {},
   "source": [
    "# Random Forest BOW lemmas (max 400)"
   ]
  },
  {
   "cell_type": "code",
   "execution_count": 18,
   "metadata": {},
   "outputs": [],
   "source": [
    "from sklearn.ensemble import RandomForestClassifier"
   ]
  },
  {
   "cell_type": "code",
   "execution_count": 19,
   "metadata": {},
   "outputs": [],
   "source": [
    "X_train, X_test, y_train, y_test = train_test_split(features, response, test_size=0.3, random_state = 42)\n",
    "vectorizer = CountVectorizer(max_features=400)\n",
    "X_train = vectorizer.fit_transform(X_train)\n",
    "X_test = vectorizer.transform(X_test)"
   ]
  },
  {
   "cell_type": "code",
   "execution_count": 20,
   "metadata": {},
   "outputs": [
    {
     "data": {
      "text/plain": [
       "array([0.72128382, 0.7248654 , 0.72031333, 0.72435705, 0.72201682])"
      ]
     },
     "execution_count": 20,
     "metadata": {},
     "output_type": "execute_result"
    }
   ],
   "source": [
    "clf = RandomForestClassifier(n_estimators=50, n_jobs = 10)\n",
    "scores = cross_val_score(clf, X_train, y_train, cv = 5)\n",
    "scores"
   ]
  },
  {
   "cell_type": "markdown",
   "metadata": {},
   "source": [
    "# Featurize parts of speech"
   ]
  },
  {
   "cell_type": "code",
   "execution_count": 21,
   "metadata": {},
   "outputs": [
    {
     "name": "stdout",
     "output_type": "stream",
     "text": [
      "INFO: Pandarallel will run on 12 workers.\n",
      "INFO: Pandarallel will use Memory file system to transfer data between the main process and workers.\n"
     ]
    }
   ],
   "source": [
    "pandarallel.initialize()"
   ]
  },
  {
   "cell_type": "code",
   "execution_count": 27,
   "metadata": {},
   "outputs": [],
   "source": [
    "pos_df = pd.DataFrame(all_tweets[\"tweet_content\"].parallel_apply(text_processing.get_pos).to_list()).fillna(0)"
   ]
  },
  {
   "cell_type": "code",
   "execution_count": 28,
   "metadata": {},
   "outputs": [],
   "source": [
    "features = pos_df\n",
    "X_train, X_test, y_train, y_test = train_test_split(features, response, test_size = 0.3, random_state = 42)"
   ]
  },
  {
   "cell_type": "code",
   "execution_count": 29,
   "metadata": {},
   "outputs": [
    {
     "data": {
      "text/plain": [
       "array([0.65036856, 0.64741086, 0.64581648, 0.64847379, 0.64957482])"
      ]
     },
     "execution_count": 29,
     "metadata": {},
     "output_type": "execute_result"
    }
   ],
   "source": [
    "clf = RandomForestClassifier(n_estimators = 100, n_jobs = 10)\n",
    "scores = cross_val_score(clf, X_train, y_train, cv = 5)\n",
    "scores"
   ]
  },
  {
   "cell_type": "code",
   "execution_count": 30,
   "metadata": {},
   "outputs": [
    {
     "data": {
      "text/html": [
       "<div>\n",
       "<style scoped>\n",
       "    .dataframe tbody tr th:only-of-type {\n",
       "        vertical-align: middle;\n",
       "    }\n",
       "\n",
       "    .dataframe tbody tr th {\n",
       "        vertical-align: top;\n",
       "    }\n",
       "\n",
       "    .dataframe thead th {\n",
       "        text-align: right;\n",
       "    }\n",
       "</style>\n",
       "<table border=\"1\" class=\"dataframe\">\n",
       "  <thead>\n",
       "    <tr style=\"text-align: right;\">\n",
       "      <th></th>\n",
       "      <th>PRON</th>\n",
       "      <th>VERB</th>\n",
       "      <th>ADV</th>\n",
       "      <th>PROPN</th>\n",
       "      <th>DET</th>\n",
       "      <th>NOUN</th>\n",
       "      <th>CCONJ</th>\n",
       "      <th>AUX</th>\n",
       "      <th>ADP</th>\n",
       "      <th>PUNCT</th>\n",
       "      <th>ADJ</th>\n",
       "      <th>X</th>\n",
       "      <th>PART</th>\n",
       "      <th>SCONJ</th>\n",
       "      <th>SPACE</th>\n",
       "      <th>NUM</th>\n",
       "      <th>INTJ</th>\n",
       "      <th>SYM</th>\n",
       "    </tr>\n",
       "  </thead>\n",
       "  <tbody>\n",
       "    <tr>\n",
       "      <th>0</th>\n",
       "      <td>5.0</td>\n",
       "      <td>11.0</td>\n",
       "      <td>5.0</td>\n",
       "      <td>2.0</td>\n",
       "      <td>6.0</td>\n",
       "      <td>11.0</td>\n",
       "      <td>1.0</td>\n",
       "      <td>3.0</td>\n",
       "      <td>6.0</td>\n",
       "      <td>6.0</td>\n",
       "      <td>4.0</td>\n",
       "      <td>1.0</td>\n",
       "      <td>0.0</td>\n",
       "      <td>0.0</td>\n",
       "      <td>0.0</td>\n",
       "      <td>0.0</td>\n",
       "      <td>0.0</td>\n",
       "      <td>0.0</td>\n",
       "    </tr>\n",
       "    <tr>\n",
       "      <th>1</th>\n",
       "      <td>14.0</td>\n",
       "      <td>11.0</td>\n",
       "      <td>4.0</td>\n",
       "      <td>2.0</td>\n",
       "      <td>6.0</td>\n",
       "      <td>3.0</td>\n",
       "      <td>1.0</td>\n",
       "      <td>5.0</td>\n",
       "      <td>0.0</td>\n",
       "      <td>7.0</td>\n",
       "      <td>2.0</td>\n",
       "      <td>0.0</td>\n",
       "      <td>3.0</td>\n",
       "      <td>2.0</td>\n",
       "      <td>2.0</td>\n",
       "      <td>0.0</td>\n",
       "      <td>0.0</td>\n",
       "      <td>0.0</td>\n",
       "    </tr>\n",
       "    <tr>\n",
       "      <th>2</th>\n",
       "      <td>5.0</td>\n",
       "      <td>3.0</td>\n",
       "      <td>2.0</td>\n",
       "      <td>1.0</td>\n",
       "      <td>7.0</td>\n",
       "      <td>11.0</td>\n",
       "      <td>3.0</td>\n",
       "      <td>3.0</td>\n",
       "      <td>8.0</td>\n",
       "      <td>8.0</td>\n",
       "      <td>3.0</td>\n",
       "      <td>0.0</td>\n",
       "      <td>0.0</td>\n",
       "      <td>1.0</td>\n",
       "      <td>3.0</td>\n",
       "      <td>1.0</td>\n",
       "      <td>0.0</td>\n",
       "      <td>0.0</td>\n",
       "    </tr>\n",
       "    <tr>\n",
       "      <th>3</th>\n",
       "      <td>2.0</td>\n",
       "      <td>11.0</td>\n",
       "      <td>2.0</td>\n",
       "      <td>3.0</td>\n",
       "      <td>8.0</td>\n",
       "      <td>11.0</td>\n",
       "      <td>4.0</td>\n",
       "      <td>4.0</td>\n",
       "      <td>7.0</td>\n",
       "      <td>8.0</td>\n",
       "      <td>1.0</td>\n",
       "      <td>1.0</td>\n",
       "      <td>2.0</td>\n",
       "      <td>0.0</td>\n",
       "      <td>0.0</td>\n",
       "      <td>0.0</td>\n",
       "      <td>1.0</td>\n",
       "      <td>0.0</td>\n",
       "    </tr>\n",
       "    <tr>\n",
       "      <th>4</th>\n",
       "      <td>4.0</td>\n",
       "      <td>4.0</td>\n",
       "      <td>3.0</td>\n",
       "      <td>4.0</td>\n",
       "      <td>0.0</td>\n",
       "      <td>2.0</td>\n",
       "      <td>0.0</td>\n",
       "      <td>1.0</td>\n",
       "      <td>2.0</td>\n",
       "      <td>4.0</td>\n",
       "      <td>0.0</td>\n",
       "      <td>0.0</td>\n",
       "      <td>0.0</td>\n",
       "      <td>0.0</td>\n",
       "      <td>1.0</td>\n",
       "      <td>1.0</td>\n",
       "      <td>0.0</td>\n",
       "      <td>0.0</td>\n",
       "    </tr>\n",
       "  </tbody>\n",
       "</table>\n",
       "</div>"
      ],
      "text/plain": [
       "   PRON  VERB  ADV  PROPN  DET  NOUN  CCONJ  AUX  ADP  PUNCT  ADJ    X  PART  \\\n",
       "0   5.0  11.0  5.0    2.0  6.0  11.0    1.0  3.0  6.0    6.0  4.0  1.0   0.0   \n",
       "1  14.0  11.0  4.0    2.0  6.0   3.0    1.0  5.0  0.0    7.0  2.0  0.0   3.0   \n",
       "2   5.0   3.0  2.0    1.0  7.0  11.0    3.0  3.0  8.0    8.0  3.0  0.0   0.0   \n",
       "3   2.0  11.0  2.0    3.0  8.0  11.0    4.0  4.0  7.0    8.0  1.0  1.0   2.0   \n",
       "4   4.0   4.0  3.0    4.0  0.0   2.0    0.0  1.0  2.0    4.0  0.0  0.0   0.0   \n",
       "\n",
       "   SCONJ  SPACE  NUM  INTJ  SYM  \n",
       "0    0.0    0.0  0.0   0.0  0.0  \n",
       "1    2.0    2.0  0.0   0.0  0.0  \n",
       "2    1.0    3.0  1.0   0.0  0.0  \n",
       "3    0.0    0.0  0.0   1.0  0.0  \n",
       "4    0.0    1.0  1.0   0.0  0.0  "
      ]
     },
     "execution_count": 30,
     "metadata": {},
     "output_type": "execute_result"
    }
   ],
   "source": [
    "features.head()"
   ]
  },
  {
   "cell_type": "code",
   "execution_count": 33,
   "metadata": {},
   "outputs": [
    {
     "data": {
      "text/plain": [
       "(309120, 18)"
      ]
     },
     "execution_count": 33,
     "metadata": {},
     "output_type": "execute_result"
    }
   ],
   "source": [
    "features.shape"
   ]
  },
  {
   "cell_type": "code",
   "execution_count": 32,
   "metadata": {},
   "outputs": [
    {
     "name": "stdout",
     "output_type": "stream",
     "text": [
      "The accuracy of the classifier on the test set is 0.650\n"
     ]
    }
   ],
   "source": [
    "clf.fit(X_train, y_train)\n",
    "accuracy = clf.score(X_test, y_test)\n",
    "print(\"The accuracy of the classifier on the test set is %.3f\" % accuracy)"
   ]
  },
  {
   "cell_type": "code",
   "execution_count": null,
   "metadata": {},
   "outputs": [],
   "source": []
  }
 ],
 "metadata": {
  "kernelspec": {
   "display_name": "Python 3",
   "language": "python",
   "name": "python3"
  },
  "language_info": {
   "codemirror_mode": {
    "name": "ipython",
    "version": 3
   },
   "file_extension": ".py",
   "mimetype": "text/x-python",
   "name": "python",
   "nbconvert_exporter": "python",
   "pygments_lexer": "ipython3",
   "version": "3.8.5"
  }
 },
 "nbformat": 4,
 "nbformat_minor": 4
}
